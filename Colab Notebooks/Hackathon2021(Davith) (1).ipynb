{
  "nbformat": 4,
  "nbformat_minor": 0,
  "metadata": {
    "colab": {
      "name": "Hackathon2021(Davith).ipynb",
      "provenance": [],
      "toc_visible": true
    },
    "kernelspec": {
      "name": "python3",
      "display_name": "Python 3"
    },
    "language_info": {
      "name": "python"
    }
  },
  "cells": [
    {
      "cell_type": "markdown",
      "metadata": {
        "id": "yeJ8RvuEqmH1"
      },
      "source": [
        "# Setting Up PySpark\n"
      ]
    },
    {
      "cell_type": "code",
      "metadata": {
        "id": "yKT91M0CqbgO"
      },
      "source": [
        "!apt-get install openjdk-8-jdk-headless -qq > /dev/null\n",
        "!wget -q http://apache.osuosl.org/spark/spark-3.1.1/spark-3.1.1-bin-hadoop2.7.tgz\n",
        "!tar xf spark-3.1.1-bin-hadoop2.7.tgz\n",
        "!pip install -q findspark"
      ],
      "execution_count": 1,
      "outputs": []
    },
    {
      "cell_type": "code",
      "metadata": {
        "id": "PVjk-5BeqpKZ"
      },
      "source": [
        "import os\n",
        "os.environ[\"JAVA_HOME\"] = \"/usr/lib/jvm/java-8-openjdk-amd64\"\n",
        "os.environ[\"SPARK_HOME\"] = \"/content/spark-3.1.1-bin-hadoop2.7\""
      ],
      "execution_count": 2,
      "outputs": []
    },
    {
      "cell_type": "code",
      "metadata": {
        "id": "DXbwAeYlqq9a"
      },
      "source": [
        "import findspark\n",
        "import string\n",
        "findspark.init()\n",
        "from pyspark.sql import SparkSession\n",
        "from pyspark import SparkConf\n",
        "from pyspark import SparkContext\n",
        "from pyspark.streaming import StreamingContext\n",
        "from random import randint\n",
        "import time\n",
        "from pyspark.sql import SQLContext\n",
        "from pyspark.sql import functions as F\n",
        "spark = SparkSession.builder.appName(\"Hackathon2021\").getOrCreate()\n",
        "\n",
        "sc = spark.sparkContext\n",
        "\n",
        "sqlContext = SQLContext(sc)"
      ],
      "execution_count": 3,
      "outputs": []
    },
    {
      "cell_type": "markdown",
      "metadata": {
        "id": "ioHAmB3wrkYO"
      },
      "source": [
        "# Kaggle: USA Charities Data"
      ]
    },
    {
      "cell_type": "code",
      "metadata": {
        "id": "4Atu47BeqspH"
      },
      "source": [
        "# directoryPath to where the csv files for USA Charities Data is \n",
        "directoryPath = '/content/drive/MyDrive/HackAThon2021/Data/Kaggle USA Charities Data/*.csv'\n",
        "\n",
        "# We now have a dataframe df that has all of the entries from all 50 states.\n",
        "df = sqlContext.read.option(\"header\", \"true\").load('/content/drive/MyDrive/HackAThon2021/Data/Kaggle USA Charities Data/*.csv', 'csv')"
      ],
      "execution_count": 4,
      "outputs": []
    },
    {
      "cell_type": "code",
      "metadata": {
        "colab": {
          "base_uri": "https://localhost:8080/"
        },
        "id": "vFyOTGAx0vqd",
        "outputId": "e50844eb-a27f-4faf-bfe6-9df01920204a"
      },
      "source": [
        "# Count how many entries we have.\n",
        "numEntries = df.count()\n",
        "print(numEntries)"
      ],
      "execution_count": 7,
      "outputs": [
        {
          "output_type": "stream",
          "text": [
            "1372473\n"
          ],
          "name": "stdout"
        }
      ]
    },
    {
      "cell_type": "code",
      "metadata": {
        "colab": {
          "base_uri": "https://localhost:8080/"
        },
        "id": "7i7eDdEJvE9R",
        "outputId": "ca067e71-0b7b-4e9c-a76a-404af2ed3c3b"
      },
      "source": [
        "# Look at the Schema to look at what fields we are working with\n",
        "df.printSchema()"
      ],
      "execution_count": 11,
      "outputs": [
        {
          "output_type": "stream",
          "text": [
            "root\n",
            " |-- Name: string (nullable = true)\n",
            " |-- EIN: string (nullable = true)\n",
            " |-- Category: string (nullable = true)\n",
            " |-- Telephone: string (nullable = true)\n",
            " |-- Address: string (nullable = true)\n",
            " |-- City: string (nullable = true)\n",
            " |-- State: string (nullable = true)\n",
            " |-- Website: string (nullable = true)\n",
            " |-- Facebook: string (nullable = true)\n",
            " |-- Twitter: string (nullable = true)\n",
            " |-- Income: string (nullable = true)\n",
            " |-- Assests: string (nullable = true)\n",
            "\n"
          ],
          "name": "stdout"
        }
      ]
    },
    {
      "cell_type": "code",
      "metadata": {
        "colab": {
          "base_uri": "https://localhost:8080/"
        },
        "id": "PjtsQgjB1fRa",
        "outputId": "2e3c67fe-c4dc-4d97-fdaa-af35c543ce4f"
      },
      "source": [
        "# How many Categories do we have \n",
        "numCat = df.groupby('Category').count().count()\n",
        "\n",
        "print(numCat)"
      ],
      "execution_count": 12,
      "outputs": [
        {
          "output_type": "stream",
          "text": [
            "288\n"
          ],
          "name": "stdout"
        }
      ]
    },
    {
      "cell_type": "code",
      "metadata": {
        "colab": {
          "base_uri": "https://localhost:8080/"
        },
        "id": "EvK_sT9jSkL-",
        "outputId": "3b810792-3935-4b76-9c1f-eeb40988cef8"
      },
      "source": [
        "df.show()"
      ],
      "execution_count": 9,
      "outputs": [
        {
          "output_type": "stream",
          "text": [
            "+--------------------+----------+--------------------+---------+--------------------+---------------+----------+--------------------+--------+-------+-----------+-----------+\n",
            "|                Name|       EIN|            Category|Telephone|             Address|           City|     State|             Website|Facebook|Twitter|     Income|    Assests|\n",
            "+--------------------+----------+--------------------+---------+--------------------+---------------+----------+--------------------+--------+-------+-----------+-----------+\n",
            "|1 grain to 1000 g...|46-3802710|Food, Agriculture...|      N/A| 2120 AVY AVENUE ...|     menlo park|California|                null|    null|   null|      $0.00|      $0.00|\n",
            "|   1 giant mind inc |45-3053826|Science and Techn...|      N/A| 13428 MAXELLA AV...|nmarina del rey|California|http://1giantmind...|    null|   null|  $4,000.00| $14,154.00|\n",
            "|    1 ghana project |82-3648374|Arts, Culture and...|      N/A| 15413 BOLERO DR ...|        fontana|California|                null|    null|   null|      $0.00|      $0.00|\n",
            "|1 for 1 opportuni...|27-4086530|   Youth Development|      N/A| 2110 E 63RD ST  ...|     long beach|California|                null|    null|   null|      $0.00|      $0.00|\n",
            "|1 family 1 restau...|45-4596295|Food, Agriculture...|      N/A| 40320 NIDO CT  9...|       palmdale|California|                null|    null|   null| $28,977.00|$199,598.00|\n",
            "|1 dream foundatio...|26-0320711|Educational Insti...|      N/A| 357 SAGE ST  934...|  sn luis obisp|California|                null|    null|   null|      $0.00|      $1.00|\n",
            "|1 2 3 christian m...|95-4592529|Religion-Related,...|      N/A| 811 S MANHATTAN ...|    los angeles|California|                null|    null|   null|$168,310.00| $16,058.00|\n",
            "|1 2 1 foundation ...|26-0822071|Philanthropy, Vol...|      N/A| 20 S SANTA CRUZ ...|      los gatos|California|http://WWW.121-FO...|    null|   null|      $0.00|      $0.00|\n",
            "|     1 1 foundation |47-4335155|Health - General ...|      N/A| 1075 YORBA PL ST...|      placentia|California|                null|    null|   null|      $1.00|      $1.00|\n",
            "|      08 church inc |27-3924877|Religion-Related,...|      N/A| 501 BELMONT AVE ...|    bakersfield|California|                null|    null|   null|      $0.00|      $0.00|\n",
            "|    03xx foundation |38-3915658|Employment, Job-R...|      N/A| 9899 MOLLIE LN  ...|         santee|California|http://03xxfounda...|    null|   null|      $0.00|      $0.00|\n",
            "|1-aaa win win opp...|47-1745517|Mental Health, Cr...|      N/A| 36224 PECAN CT  ...|        fremont|California|                null|    null|   null|      $0.00|      $0.00|\n",
            "|   1-159 foundation |81-2491139|Human Services - ...|      N/A| 140 S LAKE AVE S...|       pasadena|California|                null|    null|   null|      $0.00|      $0.00|\n",
            "|1 will inspire lo...|47-1201800|Human Services - ...|      N/A| 322 E HAZEL ST  ...|      inglewood|California|                null|    null|   null|      $0.00|      $0.00|\n",
            "|        1 san diego |47-1398771|Public, Society B...|      N/A| PO BOX 12054  92...|      san diego|California|                null|    null|   null|$370,973.00|  $2,728.00|\n",
            "|1 nation under paws |47-4495570|      Animal-Related|      N/A| 25462 FILAREE AV...|  moreno valley|California|                null|    null|   null|      $0.00|      $0.00|\n",
            "|         1 more win |46-3312968|   Youth Development|      N/A| 3555 4TH AVE  92...|      san diego|California|http://www.1morew...|    null|   null| $47,581.00| $17,776.00|\n",
            "|1 love dog rescue...|46-2929874|      Animal-Related|      N/A| 4910 SIERRA COLL...|        rocklin|California|                null|    null|   null|$304,151.00|  $2,371.00|\n",
            "| 1 life fully lived |27-4590344|Recreation, Sport...|      N/A| PO BOX 1712  961...|        portola|California|http://1lifefully...|    null|   null|$301,761.00| $55,130.00|\n",
            "|     1 life 1 child |32-0390762|Human Services - ...|      N/A| PO BOX 249  9025...|  hermosa beach|California|http://1life1chil...|    null|   null|      $0.00|      $0.00|\n",
            "+--------------------+----------+--------------------+---------+--------------------+---------------+----------+--------------------+--------+-------+-----------+-----------+\n",
            "only showing top 20 rows\n",
            "\n"
          ],
          "name": "stdout"
        }
      ]
    },
    {
      "cell_type": "code",
      "metadata": {
        "colab": {
          "base_uri": "https://localhost:8080/"
        },
        "id": "ENxxGFSRyRla",
        "outputId": "1be115fc-561b-47fc-99e5-8eea614670f5"
      },
      "source": [
        "df.groupby('Telephone').count().show()\n",
        "# Looks like the telephone sectino of this table is useless."
      ],
      "execution_count": null,
      "outputs": [
        {
          "output_type": "stream",
          "text": [
            "+---------+-------+\n",
            "|Telephone|  count|\n",
            "+---------+-------+\n",
            "|     null|    738|\n",
            "|      N/A|1371735|\n",
            "+---------+-------+\n",
            "\n",
            "None\n"
          ],
          "name": "stdout"
        }
      ]
    },
    {
      "cell_type": "code",
      "metadata": {
        "colab": {
          "base_uri": "https://localhost:8080/"
        },
        "id": "8ODIt-0g1Ho9",
        "outputId": "fe8a544c-7ca9-4f97-f5f5-9a469f236131"
      },
      "source": [
        "# Drop the Telephone column\n",
        "df = df.drop(\"Telephone\")\n",
        "df.printSchema()"
      ],
      "execution_count": 5,
      "outputs": [
        {
          "output_type": "stream",
          "text": [
            "root\n",
            " |-- Name: string (nullable = true)\n",
            " |-- EIN: string (nullable = true)\n",
            " |-- Category: string (nullable = true)\n",
            " |-- Address: string (nullable = true)\n",
            " |-- City: string (nullable = true)\n",
            " |-- State: string (nullable = true)\n",
            " |-- Website: string (nullable = true)\n",
            " |-- Facebook: string (nullable = true)\n",
            " |-- Twitter: string (nullable = true)\n",
            " |-- Income: string (nullable = true)\n",
            " |-- Assests: string (nullable = true)\n",
            "\n"
          ],
          "name": "stdout"
        }
      ]
    },
    {
      "cell_type": "markdown",
      "metadata": {
        "id": "GopR06r65luO"
      },
      "source": [
        "# Charity Navigator Scores Expenses Dataset"
      ]
    },
    {
      "cell_type": "code",
      "metadata": {
        "id": "mXeFetQK5oeF"
      },
      "source": [
        "# Load the csv into a dataframe\n",
        "\n",
        "df2 = sqlContext.read.option(\"header\", \"true\").load('/content/drive/MyDrive/HackAThon2021/Data/Charity Navigator Scores Expenses Dataset/CLEAN_charity_data.csv', 'csv')"
      ],
      "execution_count": 6,
      "outputs": []
    },
    {
      "cell_type": "code",
      "metadata": {
        "colab": {
          "base_uri": "https://localhost:8080/"
        },
        "id": "lK0WFbPZor5d",
        "outputId": "2d64ac77-7fdb-4477-9463-157c0e928662"
      },
      "source": [
        "print(df2.count())"
      ],
      "execution_count": null,
      "outputs": [
        {
          "output_type": "stream",
          "text": [
            "8710\n"
          ],
          "name": "stdout"
        }
      ]
    },
    {
      "cell_type": "code",
      "metadata": {
        "colab": {
          "base_uri": "https://localhost:8080/"
        },
        "id": "aggI52pZ2VUC",
        "outputId": "0283c071-71b3-4425-8fe5-9a2ada03f6b4"
      },
      "source": [
        "df2.groupBy(\"state\").count().show()"
      ],
      "execution_count": null,
      "outputs": [
        {
          "output_type": "stream",
          "text": [
            "+--------------------+-----+\n",
            "|               state|count|\n",
            "+--------------------+-----+\n",
            "|              0.0325|    1|\n",
            "|               65.32|    1|\n",
            "|  David L. Kutchback|    1|\n",
            "|           1240262.0|    1|\n",
            "| 0.06860000000000001|    1|\n",
            "|              0.0359|    1|\n",
            "|Animal Rights, We...|    1|\n",
            "|               0.147|    1|\n",
            "|                0.07|    1|\n",
            "|          31205313.0|    1|\n",
            "|               92.14|    1|\n",
            "|            237474.0|    1|\n",
            "|                86.1|    1|\n",
            "|                  AZ|  115|\n",
            "|                  SC|   74|\n",
            "|Saving the lives ...|    1|\n",
            "|Diseases, Disorde...|    1|\n",
            "|              0.0095|    1|\n",
            "|           2544826.0|    1|\n",
            "|Community Foundat...|    1|\n",
            "+--------------------+-----+\n",
            "only showing top 20 rows\n",
            "\n"
          ],
          "name": "stdout"
        }
      ]
    },
    {
      "cell_type": "code",
      "metadata": {
        "colab": {
          "base_uri": "https://localhost:8080/"
        },
        "id": "Mmq7T08-592a",
        "outputId": "0afc8270-da6b-4302-cbcb-6e7bb5942ec4"
      },
      "source": [
        "# Look at the schema so we know what fields we're working with\n",
        "\n",
        "df2.printSchema()"
      ],
      "execution_count": null,
      "outputs": [
        {
          "output_type": "stream",
          "text": [
            "root\n",
            " |-- ascore: string (nullable = true)\n",
            " |-- category: string (nullable = true)\n",
            " |-- description: string (nullable = true)\n",
            " |-- ein: string (nullable = true)\n",
            " |-- tot_exp: string (nullable = true)\n",
            " |-- admin_exp_p: string (nullable = true)\n",
            " |-- fund_eff: string (nullable = true)\n",
            " |-- fund_exp_p: string (nullable = true)\n",
            " |-- program_exp_p: string (nullable = true)\n",
            " |-- fscore: string (nullable = true)\n",
            " |-- leader: string (nullable = true)\n",
            " |-- leader_comp: string (nullable = true)\n",
            " |-- leader_comp_p: string (nullable = true)\n",
            " |-- motto: string (nullable = true)\n",
            " |-- name: string (nullable = true)\n",
            " |-- tot_rev: string (nullable = true)\n",
            " |-- score: string (nullable = true)\n",
            " |-- state: string (nullable = true)\n",
            " |-- subcategory: string (nullable = true)\n",
            " |-- size: string (nullable = true)\n",
            " |-- program_exp: string (nullable = true)\n",
            " |-- fund_exp: string (nullable = true)\n",
            " |-- admin_exp: string (nullable = true)\n",
            "\n"
          ],
          "name": "stdout"
        }
      ]
    },
    {
      "cell_type": "markdown",
      "metadata": {
        "id": "Z73sT3hh6UxT"
      },
      "source": [
        "# EIN for both data sets"
      ]
    },
    {
      "cell_type": "code",
      "metadata": {
        "id": "JjTC4saO6ZWX"
      },
      "source": [
        "# We will remove any hyphens in the EIN's so we can join on them\n",
        "\n",
        "from pyspark.sql.functions import regexp_replace\n",
        "\n",
        "new_df = df.withColumn('EIN', regexp_replace(\"EIN\", \"[^0-9]\", \"\"))\n",
        "\n"
      ],
      "execution_count": 8,
      "outputs": []
    },
    {
      "cell_type": "code",
      "metadata": {
        "colab": {
          "base_uri": "https://localhost:8080/"
        },
        "id": "OuE-YHE2_fxf",
        "outputId": "951b4f0a-9b67-463b-ee9a-931d25e273f8"
      },
      "source": [
        "new_df.show()\n",
        "print(new_df.count())"
      ],
      "execution_count": 15,
      "outputs": [
        {
          "output_type": "stream",
          "text": [
            "+--------------------+---------+--------------------+---------+--------------------+---------------+----------+--------------------+--------+-------+-----------+-----------+\n",
            "|                Name|      EIN|            Category|Telephone|             Address|           City|     State|             Website|Facebook|Twitter|     Income|    Assests|\n",
            "+--------------------+---------+--------------------+---------+--------------------+---------------+----------+--------------------+--------+-------+-----------+-----------+\n",
            "|1 grain to 1000 g...|463802710|Food, Agriculture...|      N/A| 2120 AVY AVENUE ...|     menlo park|California|                null|    null|   null|      $0.00|      $0.00|\n",
            "|   1 giant mind inc |453053826|Science and Techn...|      N/A| 13428 MAXELLA AV...|nmarina del rey|California|http://1giantmind...|    null|   null|  $4,000.00| $14,154.00|\n",
            "|    1 ghana project |823648374|Arts, Culture and...|      N/A| 15413 BOLERO DR ...|        fontana|California|                null|    null|   null|      $0.00|      $0.00|\n",
            "|1 for 1 opportuni...|274086530|   Youth Development|      N/A| 2110 E 63RD ST  ...|     long beach|California|                null|    null|   null|      $0.00|      $0.00|\n",
            "|1 family 1 restau...|454596295|Food, Agriculture...|      N/A| 40320 NIDO CT  9...|       palmdale|California|                null|    null|   null| $28,977.00|$199,598.00|\n",
            "|1 dream foundatio...|260320711|Educational Insti...|      N/A| 357 SAGE ST  934...|  sn luis obisp|California|                null|    null|   null|      $0.00|      $1.00|\n",
            "|1 2 3 christian m...|954592529|Religion-Related,...|      N/A| 811 S MANHATTAN ...|    los angeles|California|                null|    null|   null|$168,310.00| $16,058.00|\n",
            "|1 2 1 foundation ...|260822071|Philanthropy, Vol...|      N/A| 20 S SANTA CRUZ ...|      los gatos|California|http://WWW.121-FO...|    null|   null|      $0.00|      $0.00|\n",
            "|     1 1 foundation |474335155|Health - General ...|      N/A| 1075 YORBA PL ST...|      placentia|California|                null|    null|   null|      $1.00|      $1.00|\n",
            "|      08 church inc |273924877|Religion-Related,...|      N/A| 501 BELMONT AVE ...|    bakersfield|California|                null|    null|   null|      $0.00|      $0.00|\n",
            "|    03xx foundation |383915658|Employment, Job-R...|      N/A| 9899 MOLLIE LN  ...|         santee|California|http://03xxfounda...|    null|   null|      $0.00|      $0.00|\n",
            "|1-aaa win win opp...|471745517|Mental Health, Cr...|      N/A| 36224 PECAN CT  ...|        fremont|California|                null|    null|   null|      $0.00|      $0.00|\n",
            "|   1-159 foundation |812491139|Human Services - ...|      N/A| 140 S LAKE AVE S...|       pasadena|California|                null|    null|   null|      $0.00|      $0.00|\n",
            "|1 will inspire lo...|471201800|Human Services - ...|      N/A| 322 E HAZEL ST  ...|      inglewood|California|                null|    null|   null|      $0.00|      $0.00|\n",
            "|        1 san diego |471398771|Public, Society B...|      N/A| PO BOX 12054  92...|      san diego|California|                null|    null|   null|$370,973.00|  $2,728.00|\n",
            "|1 nation under paws |474495570|      Animal-Related|      N/A| 25462 FILAREE AV...|  moreno valley|California|                null|    null|   null|      $0.00|      $0.00|\n",
            "|         1 more win |463312968|   Youth Development|      N/A| 3555 4TH AVE  92...|      san diego|California|http://www.1morew...|    null|   null| $47,581.00| $17,776.00|\n",
            "|1 love dog rescue...|462929874|      Animal-Related|      N/A| 4910 SIERRA COLL...|        rocklin|California|                null|    null|   null|$304,151.00|  $2,371.00|\n",
            "| 1 life fully lived |274590344|Recreation, Sport...|      N/A| PO BOX 1712  961...|        portola|California|http://1lifefully...|    null|   null|$301,761.00| $55,130.00|\n",
            "|     1 life 1 child |320390762|Human Services - ...|      N/A| PO BOX 249  9025...|  hermosa beach|California|http://1life1chil...|    null|   null|      $0.00|      $0.00|\n",
            "+--------------------+---------+--------------------+---------+--------------------+---------------+----------+--------------------+--------+-------+-----------+-----------+\n",
            "only showing top 20 rows\n",
            "\n",
            "1372473\n"
          ],
          "name": "stdout"
        }
      ]
    },
    {
      "cell_type": "code",
      "metadata": {
        "colab": {
          "base_uri": "https://localhost:8080/"
        },
        "id": "lhkRRK9199we",
        "outputId": "0b7c2b8e-b140-43ea-d76c-e5169cbb6114"
      },
      "source": [
        "print(new_df.filter(\"EIN = '463802710'\").count())\n",
        "# We know that we did it correctly"
      ],
      "execution_count": 9,
      "outputs": [
        {
          "output_type": "stream",
          "text": [
            "1\n"
          ],
          "name": "stdout"
        }
      ]
    },
    {
      "cell_type": "code",
      "metadata": {
        "id": "EcwGE8dfAoOp"
      },
      "source": [
        "# Now we do the same thing to the other table\n",
        "new_df2 = df2.withColumn('ein', regexp_replace(\"EIN\", \"[^0-9]\", \"\"))"
      ],
      "execution_count": 10,
      "outputs": []
    },
    {
      "cell_type": "code",
      "metadata": {
        "colab": {
          "base_uri": "https://localhost:8080/"
        },
        "id": "kBLDXMu6A4td",
        "outputId": "e62076d8-1544-4f03-d06e-1f925447a481"
      },
      "source": [
        "new_df2.show()"
      ],
      "execution_count": null,
      "outputs": [
        {
          "output_type": "stream",
          "text": [
            "+------+--------------------+--------------------+---------+----------+--------------------+--------+--------------------+------------------+------+--------------------+-----------+--------------------+--------------------+--------------------+----------+-----+-----+--------------------+-----+------------------+------------------+------------------+\n",
            "|ascore|            category|         description|      ein|   tot_exp|         admin_exp_p|fund_eff|          fund_exp_p|     program_exp_p|fscore|              leader|leader_comp|       leader_comp_p|               motto|                name|   tot_rev|score|state|         subcategory| size|       program_exp|          fund_exp|         admin_exp|\n",
            "+------+--------------------+--------------------+---------+----------+--------------------+--------+--------------------+------------------+------+--------------------+-----------+--------------------+--------------------+--------------------+----------+-----+-----+--------------------+-----+------------------+------------------+------------------+\n",
            "| 100.0|         Environment|Working with Oreg...|930642086|  917313.0| 0.10099999999999999|    0.18|               0.184|0.7140000000000001| 88.61|       Lynn Peterson|        0.0|                 0.0|Great communities...|1000 Friends of O...| 1022513.0|91.94|   OR|Environmental Pro...|small| 654961.4820000001|        168785.592|         92648.613|\n",
            "|  89.0|Arts, Culture, Hu...|Serving the metro...|311770828| 5053059.0|               0.231|    0.05|               0.032|             0.735| 82.85|  Anthony S. Brandon|   163341.0|              0.0323|88.1 FM -. Your N...|                WYPR| 5685761.0|85.59|   MD|Public Broadcasti...|  mid|3713998.3649999998|        161697.888|       1167256.629|\n",
            "|  70.0|            Religion|VSS Catholic Comm...|911857425| 1891500.0|               0.114|    0.17| 0.19699999999999998|             0.687| 86.74|         Jim Carroll|   114791.0|0.060599999999999994|Spirit Catholic R...|VSS Catholic Comm...| 2140836.0| 76.8|   NE|Religious Media a...|small|         1299460.5|372625.49999999994|          215631.0|\n",
            "|  93.0|Arts, Culture, Hu...|The mission of th...|510145980|22506582.0|               0.092|    0.08|0.054000000000000006|             0.852| 91.03|        Paul Meecham|   124805.0|0.005500000000000...|Engaging, educati...|Utah Symphony & O...|22203175.0|91.95|   UT|     Performing Arts|  big|      19175607.864|       1215355.428|       2070605.544|\n",
            "| 100.0|      Human Services|Funded solely by ...|222579809| 5594243.0|               0.126|    0.12|               0.122|              0.75| 86.23|         Neal Newman|   219002.0|              0.0391|Shoepeople Helpin...|Two Ten Footwear ...| 6935506.0|90.26|   MA|     Social Services|  mid|        4195682.25|        682497.646|        704874.618|\n",
            "|  89.0|Arts, Culture, Hu...|Syracuse Stage is...|150623468| 5682361.0| 0.23199999999999998|    0.06|               0.039|             0.728| 81.51|         Diana Coles|    65663.0|              0.0115|Syracuse Stage il...|      Syracuse Stage| 5672247.0|84.78|   NY|     Performing Arts|  mid|4136758.8079999997|        221612.079|1318307.7519999999|\n",
            "| 100.0|            Religion|Partnering with G...|956006642| 2691787.0|               0.237|    0.19|               0.185|0.5770000000000001|  64.7|         Randy Bates|    84760.0|0.031400000000000004|Reaching thousand...|Quiet Hour Minist...| 3189235.0|75.03|   CA|Religious Media a...|small|1553161.0990000002|        497980.595|        637953.519|\n",
            "|  81.0|           Education|Put On The B.R.A....|262176362| 3174615.0|               0.071|    0.08|               0.067|             0.861|  92.5|        Doug Herbert|   150000.0|              0.0472|Be Responsible an...|Put On The BRAKES...| 3671779.0|85.55|   NC|Youth Education P...|small|       2733343.515|212699.20500000002|225397.66499999998|\n",
            "| 100.0|      Human Services|Ozarks Food Harve...|431426384|30424252.0|               0.021|    0.02|                0.02|0.9570000000000001| 96.42|          Bart Brown|   133303.0|              0.0043|Transforming Hung...| Ozarks Food Harvest|32837895.0|97.46|   MO|Food Banks, Food ...|  big|      29116009.164|         608485.04|        638909.292|\n",
            "| 100.0|           Education|NYC Outward Bound...|133471084| 6541364.0|0.054000000000000006|    0.17|               0.095|              0.85| 96.13|      Richard Stopol|   196779.0|                0.03|Transforming Scho...|NYC Outward Bound...| 6403194.0|97.26|   NY|Youth Education P...|  mid| 5560159.399999999|         621429.58|        353233.656|\n",
            "|  86.0|Arts, Culture, Hu...|Mystic Seaport wa...|060653120|19600119.0|               0.214|    0.24|               0.096|             0.688| 74.55|    Stephen C. White|   282229.0|              0.0143|The museum of Ame...|      Mystic Seaport|17100612.0|79.46|   CT|             Museums|  big|      13484881.872|       1881611.424|       4194425.466|\n",
            "|  89.0|Arts, Culture, Hu...|The mission of th...|731001687| 4634911.0|               0.095|    0.15|               0.047|             0.857| 91.91|James B. Reynolds...|    87997.0|              0.0189|Oklahoma's only p...|       Lyric Theatre| 4256741.0|90.34|   OK|     Performing Arts|  mid|       3972118.727|        217840.817|        440316.545|\n",
            "|  97.0|Arts, Culture, Hu...|The mission of KV...|941421463|10941160.0|               0.139|    0.26|               0.218|             0.642| 80.93|          David Lowe|   234392.0|0.021400000000000002|Opening minds and...|                KVIE|13173198.0|86.34|   CA|Public Broadcasti...|  mid|        7024224.72|        2385172.88|1520821.2400000002|\n",
            "| 100.0|      Human Services|JVS SoCal serves ...|951691012|17858410.0|               0.102|    0.04|                0.04|             0.856| 82.93|          Alan Levey|   246295.0|              0.0137|Jobs. Vision. Suc...|           JVS SoCal|19444303.0|87.92|   CA|     Social Services|  big|15286798.959999999|          714336.4|1821557.8199999998|\n",
            "| 100.0|         Environment|The Izaak Walton ...|361930035| 2407893.0| 0.23199999999999998|    0.09| 0.09300000000000001|0.6729999999999999| 79.94|    Scott Kovarovics|   160000.0|              0.0664|Defenders of soil...|Izaak Walton Leag...| 2764065.0|85.81|   MD|Environmental Pro...|small|1620511.9889999998|223934.04900000003|        558631.176|\n",
            "|  89.0|             Animals|ZooTampa at Lowry...|592328289|23675065.0| 0.09699999999999999|    0.08|               0.024|             0.878| 96.17|     Joseph Couceiro|   240598.0|              0.0101|Offering enjoymen...|ZooTampa at Lowry...|24235543.0|91.76|   FL|  Zoos and Aquariums|  big|       20786707.07|         568201.56|2296481.3049999997|\n",
            "|  93.0|             Animals|The mission of th...|396077242|13468967.0|                0.04|    0.01|0.013999999999999999|0.9440000000000001|  94.8|     Robert M. Davis|   194407.0|              0.0144|Conserving, educa...|Zoological Societ...|22346275.0|93.83|   WI|  Zoos and Aquariums|  mid|12714704.848000001|188565.53799999997|         538758.68|\n",
            "|  85.0|             Animals|The Point Defianc...|916066667| 2428208.0|               0.084|    0.04|               0.079|             0.835| 97.07|    Lawrence Norvell|    98380.0|              0.0405|Supporting the Po...|     The Zoo Society| 2576879.0|89.19|   WA|  Zoos and Aquariums|small|        2027553.68|        191828.432|        203969.472|\n",
            "|  97.0|             Animals|Zoo New England's...|043129124|15311266.0|               0.122|    0.04|               0.043|0.8340000000000001| 91.73|        John Linehan|   135893.0|              0.0088|Connecting you to...|     Zoo New England|18558139.0|93.77|   MA|  Zoos and Aquariums|  big|      12769595.844|        658384.438|       1867974.452|\n",
            "| 100.0|             Animals|Zoo Miami Foundat...|596192814| 4697404.0|               0.065|    0.05|                0.05|             0.883| 91.15|       William Moore|   164382.0|              0.0349|Our mission is to...|Zoo Miami Foundation| 6888922.0|93.74|   FL|  Zoos and Aquariums|  mid|       4147807.732|          234870.2|         305331.26|\n",
            "+------+--------------------+--------------------+---------+----------+--------------------+--------+--------------------+------------------+------+--------------------+-----------+--------------------+--------------------+--------------------+----------+-----+-----+--------------------+-----+------------------+------------------+------------------+\n",
            "only showing top 20 rows\n",
            "\n"
          ],
          "name": "stdout"
        }
      ]
    },
    {
      "cell_type": "code",
      "metadata": {
        "colab": {
          "base_uri": "https://localhost:8080/"
        },
        "id": "6gTMtNv7A0d3",
        "outputId": "38d27a45-832a-4932-afa9-e32a77da1194"
      },
      "source": [
        "print(new_df2.filter(\"EIN = '930642086'\").count())\n",
        "# We know we did it correctly"
      ],
      "execution_count": null,
      "outputs": [
        {
          "output_type": "stream",
          "text": [
            "1\n"
          ],
          "name": "stdout"
        }
      ]
    },
    {
      "cell_type": "code",
      "metadata": {
        "colab": {
          "base_uri": "https://localhost:8080/"
        },
        "id": "ULfa1g1rBENz",
        "outputId": "e8d86b11-b472-4e5b-e554-22146acf133d"
      },
      "source": [
        "# How many entries do we have in new_df2?\n",
        "print(new_df2.count())"
      ],
      "execution_count": null,
      "outputs": [
        {
          "output_type": "stream",
          "text": [
            "8710\n"
          ],
          "name": "stdout"
        }
      ]
    },
    {
      "cell_type": "code",
      "metadata": {
        "id": "a0lGyPxAuvRi"
      },
      "source": [
        "# Before we join, we want to drop the Name, State, and Category from the first df so we don't have duplicates.\n",
        "\n",
        "new_df = new_df.drop('Name', 'Category', 'State')"
      ],
      "execution_count": 11,
      "outputs": []
    },
    {
      "cell_type": "code",
      "metadata": {
        "id": "-8L6xlvZBQC0"
      },
      "source": [
        "# Join these two on the EIN's\n",
        "result = new_df.join(new_df2, on=['EIN'], how='inner')"
      ],
      "execution_count": 12,
      "outputs": []
    },
    {
      "cell_type": "code",
      "metadata": {
        "colab": {
          "base_uri": "https://localhost:8080/"
        },
        "id": "Enuv6cq-pZjQ",
        "outputId": "dc11b830-b87e-4913-b531-87493f0675ee"
      },
      "source": [
        "print(result.count())"
      ],
      "execution_count": 13,
      "outputs": [
        {
          "output_type": "stream",
          "text": [
            "7053\n"
          ],
          "name": "stdout"
        }
      ]
    },
    {
      "cell_type": "code",
      "metadata": {
        "colab": {
          "base_uri": "https://localhost:8080/"
        },
        "id": "5w9mFJjHpeSv",
        "outputId": "aaa59a26-73d6-4d0f-80c2-fc5864808750"
      },
      "source": [
        "result.first()"
      ],
      "execution_count": 21,
      "outputs": [
        {
          "output_type": "execute_result",
          "data": {
            "text/plain": [
              "Row(EIN='953667812', Telephone='N/A', Address=' 1650 LOS GAMOS SUITE 110  94903-1838', City='san rafael', Website=None, Facebook=None, Twitter=None, Income='$8,425,395.00', Assests='$9,151,328.00', ascore='96.0', category='Education', description=\"A leading college success nonprofit in California, 10,000 Degrees helps students from low-income backgrounds get to and through college: 85% of our students are the first in their families to go to college. Thanks to comprehensive personal support, academic counseling, and financial aid management, more than 80% of 10,000 Degrees four-year college students earn bachelor's degrees, compared to 31% of their peers nationally. At the same time, 10,000 Degrees community college students transfer to and graduate from four-year colleges at three times the national average. Unlike with most other college support organizations, there is no GPA requirement for students applying to 10,000 Degrees programs. Currently, 10,000 Degrees supports students in 19 area high schools, 10 community colleges, and over 50 four-year colleges and universities in California and across the country.\", tot_exp='7953651.0', admin_exp_p='0.149', fund_eff='0.13', fund_exp_p='0.146', program_exp_p='0.703', fscore='86.78', leader='Kim Mazzuca', leader_comp='161447.0', leader_comp_p='0.0202', motto='Creating College Graduates Who Change the World', name='10,000 Degrees', tot_rev='9429163.0', score='90.23', state='CA', subcategory='Scholarship and Financial Support', size='mid', program_exp='5591416.653', fund_exp='1161233.0459999999', admin_exp='1185093.9989999998')"
            ]
          },
          "metadata": {
            "tags": []
          },
          "execution_count": 21
        }
      ]
    },
    {
      "cell_type": "code",
      "metadata": {
        "colab": {
          "base_uri": "https://localhost:8080/"
        },
        "id": "FwbwJC7gqdHB",
        "outputId": "d040e5c1-90b8-4cc2-e91a-97713ed72cd6"
      },
      "source": [
        "result.printSchema()"
      ],
      "execution_count": null,
      "outputs": [
        {
          "output_type": "stream",
          "text": [
            "root\n",
            " |-- EIN: string (nullable = true)\n",
            " |-- Address: string (nullable = true)\n",
            " |-- City: string (nullable = true)\n",
            " |-- Website: string (nullable = true)\n",
            " |-- Facebook: string (nullable = true)\n",
            " |-- Twitter: string (nullable = true)\n",
            " |-- Income: string (nullable = true)\n",
            " |-- Assests: string (nullable = true)\n",
            " |-- ascore: string (nullable = true)\n",
            " |-- category: string (nullable = true)\n",
            " |-- description: string (nullable = true)\n",
            " |-- tot_exp: string (nullable = true)\n",
            " |-- admin_exp_p: string (nullable = true)\n",
            " |-- fund_eff: string (nullable = true)\n",
            " |-- fund_exp_p: string (nullable = true)\n",
            " |-- program_exp_p: string (nullable = true)\n",
            " |-- fscore: string (nullable = true)\n",
            " |-- leader: string (nullable = true)\n",
            " |-- leader_comp: string (nullable = true)\n",
            " |-- leader_comp_p: string (nullable = true)\n",
            " |-- motto: string (nullable = true)\n",
            " |-- name: string (nullable = true)\n",
            " |-- tot_rev: string (nullable = true)\n",
            " |-- score: string (nullable = true)\n",
            " |-- state: string (nullable = true)\n",
            " |-- subcategory: string (nullable = true)\n",
            " |-- size: string (nullable = true)\n",
            " |-- program_exp: string (nullable = true)\n",
            " |-- fund_exp: string (nullable = true)\n",
            " |-- admin_exp: string (nullable = true)\n",
            "\n"
          ],
          "name": "stdout"
        }
      ]
    },
    {
      "cell_type": "code",
      "metadata": {
        "colab": {
          "base_uri": "https://localhost:8080/"
        },
        "id": "Da0QcaWar0xv",
        "outputId": "1ffd83ba-e237-4753-d1d4-a57004ba9048"
      },
      "source": [
        "#Show the counts of each size of organization. \n",
        "result.groupBy(['size']).count().show()"
      ],
      "execution_count": 22,
      "outputs": [
        {
          "output_type": "stream",
          "text": [
            "+--------------------+-----+\n",
            "|                size|count|\n",
            "+--------------------+-----+\n",
            "|                86.1|    2|\n",
            "|                  AZ|    4|\n",
            "|         United Ways|    6|\n",
            "|Multipurpose Huma...|    2|\n",
            "|Gay & Lesbian All...|    2|\n",
            "|              0.0025|    2|\n",
            "| 0.04769999999999999|    2|\n",
            "|             15707.0|    2|\n",
            "|               90.13|    2|\n",
            "|                  MN|    2|\n",
            "|Helping people to...|    2|\n",
            "|           4208870.0|    2|\n",
            "|          Neat Stuff|    2|\n",
            "|          15245808.0|    2|\n",
            "|Youth Education P...|    4|\n",
            "|                  NJ|    2|\n",
            "|      Huston Commons|    2|\n",
            "|               96.82|    2|\n",
            "|               76.91|    2|\n",
            "|              0.0274|    2|\n",
            "+--------------------+-----+\n",
            "only showing top 20 rows\n",
            "\n"
          ],
          "name": "stdout"
        }
      ]
    },
    {
      "cell_type": "code",
      "metadata": {
        "id": "VDljDdXOrXGN",
        "colab": {
          "base_uri": "https://localhost:8080/",
          "height": 328
        },
        "outputId": "f517832c-d6c0-4c7a-eb78-93f1734a3636"
      },
      "source": [
        "#Write Out this new table to csv's\n",
        "\n",
        "result.write.option(\"header\", \"true\").csv(\"/content/drive/MyDrive/HackAThon2021/Data/CharityNavAndUSACharities\")"
      ],
      "execution_count": null,
      "outputs": [
        {
          "output_type": "error",
          "ename": "AnalysisException",
          "evalue": "ignored",
          "traceback": [
            "\u001b[0;31m---------------------------------------------------------------------------\u001b[0m",
            "\u001b[0;31mAnalysisException\u001b[0m                         Traceback (most recent call last)",
            "\u001b[0;32m<ipython-input-28-dc3355f32fab>\u001b[0m in \u001b[0;36m<module>\u001b[0;34m()\u001b[0m\n\u001b[1;32m      1\u001b[0m \u001b[0;31m#Write Out this new table to a csv\u001b[0m\u001b[0;34m\u001b[0m\u001b[0;34m\u001b[0m\u001b[0;34m\u001b[0m\u001b[0m\n\u001b[1;32m      2\u001b[0m \u001b[0;34m\u001b[0m\u001b[0m\n\u001b[0;32m----> 3\u001b[0;31m \u001b[0mresult\u001b[0m\u001b[0;34m.\u001b[0m\u001b[0mwrite\u001b[0m\u001b[0;34m.\u001b[0m\u001b[0moption\u001b[0m\u001b[0;34m(\u001b[0m\u001b[0;34m\"header\"\u001b[0m\u001b[0;34m,\u001b[0m \u001b[0;34m\"true\"\u001b[0m\u001b[0;34m)\u001b[0m\u001b[0;34m.\u001b[0m\u001b[0mcsv\u001b[0m\u001b[0;34m(\u001b[0m\u001b[0;34m\"/content/drive/MyDrive/HackAThon2021/Data/CharityNavAndUSACharities\"\u001b[0m\u001b[0;34m)\u001b[0m\u001b[0;34m\u001b[0m\u001b[0;34m\u001b[0m\u001b[0m\n\u001b[0m",
            "\u001b[0;32m/content/spark-3.1.1-bin-hadoop2.7/python/pyspark/sql/readwriter.py\u001b[0m in \u001b[0;36mcsv\u001b[0;34m(self, path, mode, compression, sep, quote, escape, header, nullValue, escapeQuotes, quoteAll, dateFormat, timestampFormat, ignoreLeadingWhiteSpace, ignoreTrailingWhiteSpace, charToEscapeQuoteEscaping, encoding, emptyValue, lineSep)\u001b[0m\n\u001b[1;32m   1369\u001b[0m                        \u001b[0mcharToEscapeQuoteEscaping\u001b[0m\u001b[0;34m=\u001b[0m\u001b[0mcharToEscapeQuoteEscaping\u001b[0m\u001b[0;34m,\u001b[0m\u001b[0;34m\u001b[0m\u001b[0;34m\u001b[0m\u001b[0m\n\u001b[1;32m   1370\u001b[0m                        encoding=encoding, emptyValue=emptyValue, lineSep=lineSep)\n\u001b[0;32m-> 1371\u001b[0;31m         \u001b[0mself\u001b[0m\u001b[0;34m.\u001b[0m\u001b[0m_jwrite\u001b[0m\u001b[0;34m.\u001b[0m\u001b[0mcsv\u001b[0m\u001b[0;34m(\u001b[0m\u001b[0mpath\u001b[0m\u001b[0;34m)\u001b[0m\u001b[0;34m\u001b[0m\u001b[0;34m\u001b[0m\u001b[0m\n\u001b[0m\u001b[1;32m   1372\u001b[0m \u001b[0;34m\u001b[0m\u001b[0m\n\u001b[1;32m   1373\u001b[0m     \u001b[0;32mdef\u001b[0m \u001b[0morc\u001b[0m\u001b[0;34m(\u001b[0m\u001b[0mself\u001b[0m\u001b[0;34m,\u001b[0m \u001b[0mpath\u001b[0m\u001b[0;34m,\u001b[0m \u001b[0mmode\u001b[0m\u001b[0;34m=\u001b[0m\u001b[0;32mNone\u001b[0m\u001b[0;34m,\u001b[0m \u001b[0mpartitionBy\u001b[0m\u001b[0;34m=\u001b[0m\u001b[0;32mNone\u001b[0m\u001b[0;34m,\u001b[0m \u001b[0mcompression\u001b[0m\u001b[0;34m=\u001b[0m\u001b[0;32mNone\u001b[0m\u001b[0;34m)\u001b[0m\u001b[0;34m:\u001b[0m\u001b[0;34m\u001b[0m\u001b[0;34m\u001b[0m\u001b[0m\n",
            "\u001b[0;32m/content/spark-3.1.1-bin-hadoop2.7/python/lib/py4j-0.10.9-src.zip/py4j/java_gateway.py\u001b[0m in \u001b[0;36m__call__\u001b[0;34m(self, *args)\u001b[0m\n\u001b[1;32m   1303\u001b[0m         \u001b[0manswer\u001b[0m \u001b[0;34m=\u001b[0m \u001b[0mself\u001b[0m\u001b[0;34m.\u001b[0m\u001b[0mgateway_client\u001b[0m\u001b[0;34m.\u001b[0m\u001b[0msend_command\u001b[0m\u001b[0;34m(\u001b[0m\u001b[0mcommand\u001b[0m\u001b[0;34m)\u001b[0m\u001b[0;34m\u001b[0m\u001b[0;34m\u001b[0m\u001b[0m\n\u001b[1;32m   1304\u001b[0m         return_value = get_return_value(\n\u001b[0;32m-> 1305\u001b[0;31m             answer, self.gateway_client, self.target_id, self.name)\n\u001b[0m\u001b[1;32m   1306\u001b[0m \u001b[0;34m\u001b[0m\u001b[0m\n\u001b[1;32m   1307\u001b[0m         \u001b[0;32mfor\u001b[0m \u001b[0mtemp_arg\u001b[0m \u001b[0;32min\u001b[0m \u001b[0mtemp_args\u001b[0m\u001b[0;34m:\u001b[0m\u001b[0;34m\u001b[0m\u001b[0;34m\u001b[0m\u001b[0m\n",
            "\u001b[0;32m/content/spark-3.1.1-bin-hadoop2.7/python/pyspark/sql/utils.py\u001b[0m in \u001b[0;36mdeco\u001b[0;34m(*a, **kw)\u001b[0m\n\u001b[1;32m    115\u001b[0m                 \u001b[0;31m# Hide where the exception came from that shows a non-Pythonic\u001b[0m\u001b[0;34m\u001b[0m\u001b[0;34m\u001b[0m\u001b[0;34m\u001b[0m\u001b[0m\n\u001b[1;32m    116\u001b[0m                 \u001b[0;31m# JVM exception message.\u001b[0m\u001b[0;34m\u001b[0m\u001b[0;34m\u001b[0m\u001b[0;34m\u001b[0m\u001b[0m\n\u001b[0;32m--> 117\u001b[0;31m                 \u001b[0;32mraise\u001b[0m \u001b[0mconverted\u001b[0m \u001b[0;32mfrom\u001b[0m \u001b[0;32mNone\u001b[0m\u001b[0;34m\u001b[0m\u001b[0;34m\u001b[0m\u001b[0m\n\u001b[0m\u001b[1;32m    118\u001b[0m             \u001b[0;32melse\u001b[0m\u001b[0;34m:\u001b[0m\u001b[0;34m\u001b[0m\u001b[0;34m\u001b[0m\u001b[0m\n\u001b[1;32m    119\u001b[0m                 \u001b[0;32mraise\u001b[0m\u001b[0;34m\u001b[0m\u001b[0;34m\u001b[0m\u001b[0m\n",
            "\u001b[0;31mAnalysisException\u001b[0m: path file:/content/drive/MyDrive/HackAThon2021/Data/CharityNavAndUSACharities already exists."
          ]
        }
      ]
    },
    {
      "cell_type": "code",
      "metadata": {
        "colab": {
          "base_uri": "https://localhost:8080/"
        },
        "id": "rTgvqtJlwapI",
        "outputId": "bb21ef7c-e284-451b-c6c7-1a27bbec1b88"
      },
      "source": [
        "# Count how many categories we have. We will use this information in\n",
        "\n",
        "temp = result.groupBy([\"category\"]).count()\n",
        "temp.sort(F.col(\"count\").desc()).show()"
      ],
      "execution_count": 14,
      "outputs": [
        {
          "output_type": "stream",
          "text": [
            "+--------------------+-----+\n",
            "|            category|count|\n",
            "+--------------------+-----+\n",
            "|      Human Services| 1997|\n",
            "|Arts, Culture, Hu...| 1042|\n",
            "|              Health|  690|\n",
            "|Community Develop...|  648|\n",
            "|           Education|  552|\n",
            "|       International|  470|\n",
            "|             Animals|  386|\n",
            "|            Religion|  345|\n",
            "|         Environment|  332|\n",
            "|Human and Civil R...|  235|\n",
            "|Research and Publ...|  112|\n",
            "|           fieldwork|    2|\n",
            "|        more than 31|    2|\n",
            "| that recognizes ...|    2|\n",
            "| showcasing BGU's...|    2|\n",
            "| the only nationa...|    2|\n",
            "|              talent|    2|\n",
            "|         memory care|    2|\n",
            "| the Richmond Sym...|    2|\n",
            "| PHG has grown to...|    2|\n",
            "+--------------------+-----+\n",
            "only showing top 20 rows\n",
            "\n"
          ],
          "name": "stdout"
        }
      ]
    },
    {
      "cell_type": "code",
      "metadata": {
        "colab": {
          "base_uri": "https://localhost:8080/"
        },
        "id": "V5G1gKZm2Dkd",
        "outputId": "418f69ba-a6ef-483a-86e5-930f76b83ea1"
      },
      "source": [
        "result.groupBy(\"state\").count().sort(F.col(\"count\").desc()).show()"
      ],
      "execution_count": null,
      "outputs": [
        {
          "output_type": "stream",
          "text": [
            "+-----+-----+\n",
            "|state|count|\n",
            "+-----+-----+\n",
            "|   CA|  952|\n",
            "|   NY|  923|\n",
            "|   FL|  400|\n",
            "|   MA|  326|\n",
            "|   IL|  295|\n",
            "|   PA|  281|\n",
            "|   OH|  237|\n",
            "|   CO|  236|\n",
            "|   WA|  203|\n",
            "|   MN|  200|\n",
            "|   GA|  196|\n",
            "|   MI|  192|\n",
            "|   MO|  192|\n",
            "|   NC|  183|\n",
            "|   MD|  158|\n",
            "|   NJ|  154|\n",
            "|   AZ|  144|\n",
            "|   CT|  126|\n",
            "|   IN|  124|\n",
            "|   OR|  113|\n",
            "+-----+-----+\n",
            "only showing top 20 rows\n",
            "\n"
          ],
          "name": "stdout"
        }
      ]
    },
    {
      "cell_type": "code",
      "metadata": {
        "colab": {
          "base_uri": "https://localhost:8080/"
        },
        "id": "swZ8ktIW_B10",
        "outputId": "de696ba4-1ff2-40a5-8714-aa76a942d91d"
      },
      "source": [
        "# Now we will use Spark template table to run SQL queries.\n",
        "\n",
        "# Create the temp table\n",
        "result.registerTempTable(\"resultTemp\");\n",
        "\n",
        "num_of_small_charities = sqlContext.sql(\"SELECT * FROM resultTemp WHERE size = 'small'\").count()\n",
        "\n",
        "print(num_of_small_charities)\n",
        "\n",
        "sqlContext.sql(\"SELECT * FROM resultTemp WHERE size = 'small'\").show()"
      ],
      "execution_count": 15,
      "outputs": [
        {
          "output_type": "stream",
          "text": [
            "3144\n",
            "+---------+--------------------+-------------+-------+--------+-------+-------------+--------------+------+--------------------+--------------------+---------+-------------------+--------+--------------------+------------------+------+--------------------+-----------+--------------------+--------------------+--------------------+---------+-----+-----+--------------------+-----+------------------+------------------+------------------+\n",
            "|      EIN|             Address|         City|Website|Facebook|Twitter|       Income|       Assests|ascore|            category|         description|  tot_exp|        admin_exp_p|fund_eff|          fund_exp_p|     program_exp_p|fscore|              leader|leader_comp|       leader_comp_p|               motto|                name|  tot_rev|score|state|         subcategory| size|       program_exp|          fund_exp|         admin_exp|\n",
            "+---------+--------------------+-------------+-------+--------+-------+-------------+--------------+------+--------------------+--------------------+---------+-------------------+--------+--------------------+------------------+------+--------------------+-----------+--------------------+--------------------+--------------------+---------+-----+-----+--------------------+-----+------------------+------------------+------------------+\n",
            "|202274095| 1150 S OLIVE ST ...|  los angeles|   null|    null|   null|  $609,118.00|    $84,188.00|  52.0|      Human Services|A Better LA, foun...| 703079.0|                0.2|    0.02|0.022000000000000002|0.7759999999999999| 72.88|This organization...|       null|                null|A better Los Angeles|         A Better LA| 690118.0|61.01|   CA|Youth Development...|small| 545589.3039999999|15467.738000000001|140615.80000000002|\n",
            "|954443878| 3352 E FOOTHILL ...|     pasadena|   null|    null|   null|$3,096,607.00|$12,927,835.00|  92.0|Arts, Culture, Hu...|A Noise Within pr...|3138360.0|              0.075|    0.17|               0.075|             0.848| 97.44|       Geoff Elliott|    93028.0|              0.0296|Classic Theatre, ...|      A Noise Within|2952513.0|94.06|   CA|     Performing Arts|small|        2661329.28|          235377.0|          235377.0|\n",
            "|330620415| 404 EUCLID AVE S...|    san diego|   null|    null|   null|$2,940,238.00| $9,569,262.00|  93.0|Community Develop...|Accion is a nonpr...|2240870.0|              0.049|    0.01|0.013999999999999999|             0.935|  97.5|    Elizabeth Schott|    92448.0|              0.0412|Lending. Supporti...|    ACCION San Diego|3463063.0|94.74|   CA|Housing and Neigh...|small|2095213.4500000002|31372.179999999997|         109802.63|\n",
            "|237064937| 3921 EAST BAYSHO...|    palo alto|   null|    null|   null|$1,893,987.00| $1,244,377.00| 100.0|         Environment|Acterra's mission...|1828322.0|              0.092|    0.15|               0.126|0.7809999999999999| 86.34|          Adam Stern|   125466.0| 0.06860000000000001|Action for a Heal...|             Acterra|1795667.0|90.34|   CA|Environmental Pro...|small|1427919.4819999998|230368.57200000001|        168205.624|\n",
            "|330857142| 1914 MISSION RD ...|    escondido|   null|    null|   null|$1,002,815.00|   $556,344.00|  62.0|            Religion|Activated Ministr...|1092977.0|              0.091|    0.42|               0.365|             0.542|  56.2|         Thomas Hack|    90720.0|               0.083|Sharing God's wor...|Activated Ministries|1063945.0|58.99|   CA|Religious Activities|small|        592393.534|        398936.605| 99460.90699999999|\n",
            "|952783139| 11523 BURBANK BL...|  n hollywood|   null|    null|   null|  $932,974.00| $3,602,933.00|  81.0|             Animals|Founded in 1971, ...| 764861.0|              0.057|    0.04|                0.05|0.8909999999999999| 91.45|        Susan Taylor|    58846.0| 0.07690000000000001|Caring for animal...|Actors and Others...| 552179.0|85.26|   CA|Animal Rights, We...|small|        681491.151|          38243.05|43597.077000000005|\n",
            "|510192551| 643 BAIR ISLAND ...| redwood city|   null|    null|   null|$1,586,210.00| $1,527,996.00|  93.0|      Human Services|Adolescent Counse...|1506807.0|              0.049|    0.12|               0.095|0.8540000000000001| 85.82|        Philippe Rey|   122116.0|               0.081|Strength through ...|Adolescent Counse...|1371151.0|88.81|   CA|Youth Development...|small|       1286813.178|        143146.665|         73833.543|\n",
            "|954742741| 1833 W 8TH ST ST...|  los angeles|   null|    null|   null|$2,270,602.00|   $775,370.00| 100.0|              Health|Founded in May of...|2147395.0|0.11900000000000001|    0.05|0.055999999999999994|0.8240000000000001| 84.25|    Philip T. Wilson|   153459.0| 0.07139999999999999|Together we are g...|Black AIDS Institute|2163754.0|88.86|   CA|Diseases, Disorde...|small|1769453.4800000002|120254.11999999998|        255540.005|\n",
            "|680226944| 3160 CROW CANYON...|    san ramon|   null|    null|   null|$2,773,397.00|   $445,576.00|  85.0|      Human Services|Agape Villages (t...|2614012.0|               0.06|    0.09|               0.038|               0.9|  80.0|         Janet Kleyn|   102580.0|              0.0392|Healing hearts an...|      Agape Villages|2731542.0|82.32|   CA|Children's and Fa...|small|2352610.8000000003| 99332.45599999999|         156840.72|\n",
            "|770325111| 2901 TASMAN DR S...|  santa clara|   null|    null|   null|$2,126,318.00| $3,297,978.00| 100.0|           Education|Founded in 1989, ...|1910079.0|               0.12|    0.15|               0.099|             0.779| 90.47|        Mario Vargas|   112376.0|              0.0588|Seeding innovativ...|All Stars Helping...| 930082.0|93.26|   CA|Scholarship and F...|small|       1487951.541|        189097.821|229209.47999999998|\n",
            "|020541202| 744 P ST STE 307...|       fresno|   null|    null|   null|$1,501,667.00| $1,291,213.00|  89.0|Arts, Culture, Hu...|Founded in 2001, ...|1693600.0|              0.177|    0.06|0.055999999999999994|             0.765| 89.01|       Amy Kitchener|   112640.0|              0.0665|Dedicated to sust...|Alliance for Cali...|1710846.0| 89.0|   CA|     Performing Arts|small|         1295604.0| 94841.59999999999|          299767.2|\n",
            "|770017561| 4203 BUENA VISTA...|  bakersfield|   null|    null|   null|$2,602,996.00| $2,845,743.00|  81.0|      Human Services|We improve the li...| 899578.0|              0.204|    0.06| 0.08900000000000001|             0.706| 88.38|          KATE EUCCE|    84585.0|               0.094|  Adult Day Services|Alzheimer's Disea...|1786255.0|84.25|   CA|     Social Services|small|        635102.068| 80062.44200000001|183513.91199999998|\n",
            "|943081330| 2320 CHANNING WA...|     berkeley|   null|    null|   null|$1,907,991.00| $1,510,929.00|  82.0|              Health|Alzheimer's Servi...|2423878.0|0.21600000000000003|    0.15|                0.04|             0.743| 68.66|        Micheal Pope|   122911.0|              0.0507|Life is a journey...|Alzheimer's Servi...|1969033.0|74.44|   CA|Diseases, Disorde...|small|       1800941.354|          96955.12|523557.64800000004|\n",
            "|954604782| 520 3RD ST STE 1...|      oakland|   null|    null|   null|$1,266,161.00|   $652,797.00| 100.0|         Environment|Since 1996, Amazo...|1686512.0|              0.091|    0.11| 0.10099999999999999|0.8059999999999999| 75.25| Leila Salazar-Lopez|    97375.0|0.057699999999999994|Protecting the Am...|        Amazon Watch|1646830.0|82.49|   CA|Environmental Pro...|small|1359328.6719999998|        170337.712|        153472.592|\n",
            "|943180356| 1119 MARKET ST S...|san francisco|   null|    null|   null|$1,582,996.00| $1,680,322.00|  96.0|              Health|Operation Access ...|1466203.0|              0.077|    0.13|               0.109|             0.813|  81.1|         Jason Beers|   156659.0| 0.10679999999999999|Bridging the Heal...|    Operation Access|1012813.0|86.33|   CA|Patient and Famil...|small|1192023.0389999999|        159816.127|        112897.631|\n",
            "|953902004| 6712 HOLLYWOOD B...|  los angeles|   null|    null|   null|$3,280,271.00| $7,909,561.00|  70.0|Arts, Culture, Hu...|The American Cine...|3156998.0|0.07400000000000001|    0.07|0.027999999999999997|             0.897| 88.69| Barbara Zicka Smith|    76399.0|              0.0241|Providing Souther...|American Cinemath...|2767133.0|77.32|   CA|     Performing Arts|small|2831827.2060000002| 88395.94399999999|233617.85200000004|\n",
            "|133441742| 229 N CENTRAL AV...|     glendale|   null|    null|   null|  $431,051.00|   $885,853.00| 100.0|       International|The American Frie...| 492665.0|0.11699999999999999|    0.15|               0.128|             0.753| 77.22|      Scott Brockman|    95000.0|              0.1928|Dedicated to dial...|American Friends ...| 380983.0|83.89|   CA|International Pea...|small|        370976.745|          63061.12| 57641.80499999999|\n",
            "|942922136| 2530 SAN PABLO A...|     berkeley|   null|    null|   null|$2,496,407.00| $1,634,585.00|  92.0|Human and Civil R...|American Nonsmoke...|2848886.0|0.10300000000000001|    0.06|               0.053|0.8420000000000001| 92.27|     Cynthia Hallett|   142884.0|              0.0501|Defending your ri...|American Nonsmoke...|2496407.0|92.13|   CA|Advocacy and Educ...|small|       2398762.012|150990.95799999998|293435.25800000003|\n",
            "|680200668| 17314 MCCOURTNEY...| grass valley|   null|    null|   null|$2,672,741.00| $7,830,567.00|  78.0|             Animals|Founded in 1989 A...|2235453.0|              0.063|    0.05|               0.057|             0.878| 100.0|          Kim Sturla|    72300.0|              0.0323|A sanctuary and e...|        Animal Place|2588758.0|84.44|   CA|Wildlife Conserva...|small|       1962727.734|127420.82100000001|        140833.539|\n",
            "|311802788| 300 BROADWAY STE...|san francisco|   null|    null|   null|$1,672,258.00|   $507,166.00| 100.0|             Animals|Animals Asia is d...|1598112.0|              0.102|    0.14|               0.147|              0.75| 80.38|        Paula Burton|   125000.0|              0.0782|Devoted to ending...|Animals Asia Foun...|1655415.0|86.12|   CA|Wildlife Conserva...|small|         1198584.0|234922.46399999998|        163007.424|\n",
            "+---------+--------------------+-------------+-------+--------+-------+-------------+--------------+------+--------------------+--------------------+---------+-------------------+--------+--------------------+------------------+------+--------------------+-----------+--------------------+--------------------+--------------------+---------+-----+-----+--------------------+-----+------------------+------------------+------------------+\n",
            "only showing top 20 rows\n",
            "\n"
          ],
          "name": "stdout"
        }
      ]
    },
    {
      "cell_type": "code",
      "metadata": {
        "id": "38cgjOsAMM6a"
      },
      "source": [
        ""
      ],
      "execution_count": null,
      "outputs": []
    },
    {
      "cell_type": "code",
      "metadata": {
        "colab": {
          "base_uri": "https://localhost:8080/"
        },
        "id": "XJYhV3dsAlP1",
        "outputId": "676b2def-a4aa-4a49-ea98-57c7698e1b63"
      },
      "source": [
        "# Query for high transparency charities\n",
        "\n",
        "avg_ascore = sqlContext.sql(\"SELECT AVG(ascore) as averge FROM resultTemp WHERE ascore < 100\")\n",
        "\n",
        "avg_ascore_num = avg_ascore.collect()[0][0]\n",
        "\n",
        "avg_ascore.show()\n",
        "\n",
        "# Any score above our average is considered a High Transparency Charity\n",
        "\n",
        "highTrans = sqlContext.sql(\"SELECT * FROM resultTemp WHERE ascore > \" + str(avg_ascore_num))\n",
        "\n",
        "print(highTrans.count())\n",
        "\n",
        "highTrans.show()"
      ],
      "execution_count": 19,
      "outputs": [
        {
          "output_type": "stream",
          "text": [
            "+-----------------+\n",
            "|           averge|\n",
            "+-----------------+\n",
            "|87.90331918178309|\n",
            "+-----------------+\n",
            "\n",
            "5220\n",
            "+---------+--------------------+-------------+-------+--------+-------+--------------+--------------+------+--------------------+--------------------+----------+-------------------+--------+--------------------+-------------------+------+--------------------+-----------+--------------------+--------------------+--------------------+----------+-----+-----+--------------------+-----+------------------+------------------+------------------+\n",
            "|      EIN|             Address|         City|Website|Facebook|Twitter|        Income|       Assests|ascore|            category|         description|   tot_exp|        admin_exp_p|fund_eff|          fund_exp_p|      program_exp_p|fscore|              leader|leader_comp|       leader_comp_p|               motto|                name|   tot_rev|score|state|         subcategory| size|       program_exp|          fund_exp|         admin_exp|\n",
            "+---------+--------------------+-------------+-------+--------+-------+--------------+--------------+------+--------------------+--------------------+----------+-------------------+--------+--------------------+-------------------+------+--------------------+-----------+--------------------+--------------------+--------------------+----------+-----+-----+--------------------+-----+------------------+------------------+------------------+\n",
            "|953667812| 1650 LOS GAMOS S...|   san rafael|   null|    null|   null| $8,425,395.00| $9,151,328.00|  96.0|           Education|A leading college...| 7953651.0|              0.149|    0.13|               0.146|              0.703| 86.78|         Kim Mazzuca|   161447.0|              0.0202|Creating College ...|      10,000 Degrees| 9429163.0|90.23|   CA|Scholarship and F...|  mid|       5591416.653|1161233.0459999999|1185093.9989999998|\n",
            "|900018359| 1611 TELEGRAPH A...|      oakland|   null|    null|   null| $3,381,642.00| $1,008,095.00|  89.0|       International|Founded in 1996, ...| 3532356.0|              0.098|    0.12|               0.122|              0.778| 82.94| Rebecca Vilkomerson|    91683.0|              0.0259|Opposing anti-Jew...|A Jewish Voice fo...| 3381642.0|85.64|   CA|International Pea...|  mid|       2748172.968|        430947.432|346170.88800000004|\n",
            "|954443878| 3352 E FOOTHILL ...|     pasadena|   null|    null|   null| $3,096,607.00|$12,927,835.00|  92.0|Arts, Culture, Hu...|A Noise Within pr...| 3138360.0|              0.075|    0.17|               0.075|              0.848| 97.44|       Geoff Elliott|    93028.0|              0.0296|Classic Theatre, ...|      A Noise Within| 2952513.0|94.06|   CA|     Performing Arts|small|        2661329.28|          235377.0|          235377.0|\n",
            "|954427291| 2830 S CENTRAL A...|  los angeles|   null|    null|   null| $6,180,634.00| $7,843,441.00|  96.0|      Human Services|A Place Called Ho...| 6168906.0|              0.114|     0.1|               0.122|              0.762| 92.48|   Jonathan Zeichner|   177615.0|              0.0287|A positive enviro...| A Place Called Home| 8048297.0|93.97|   CA|Youth Development...|  mid|       4700706.372|        752606.532|        703255.284|\n",
            "|941546643| 525 E CHARLESTON...|    palo alto|   null|    null|   null| $6,475,484.00| $3,909,832.00|  96.0|      Human Services|Abilities United ...| 5575172.0|              0.203|    0.14|               0.086| 0.7090000000000001|  72.8|     Charlie Weidanz|   184964.0|              0.0331|We see a world wh...|    Abilities United| 5353115.0|80.55|   CA|     Social Services|  mid|3952796.9480000003|479464.79199999996|       1131759.916|\n",
            "|943087060| 40849 FREMONT BL...|      fremont|   null|    null|   null|$28,824,642.00|$16,783,525.00| 100.0|      Human Services|Established in 19...|39690545.0|              0.062|    0.02|0.022000000000000002|              0.914|  92.5|   Louis D. Chicoine|   207681.0|              0.0052|Because everyone ...|      Abode Services|46596124.0|94.69|   CA|   Homeless Services|  big|       36277158.13| 873191.9900000001|        2460813.79|\n",
            "|952283284| 5220 LANKERSHIM ...|  n hollywood|   null|    null|   null|$13,709,270.00|$54,862,967.00|  89.0|           Education|Established as th...| 4363498.0|              0.602|    0.01|                0.04|0.35700000000000004| 68.08|Norma Provencio P...|        0.0|                 0.0|To educate, inspi...|Academy of Televi...|13492321.0|76.12|   CA|Youth Education P...|  mid|       1557768.786|         174539.92|       2626825.796|\n",
            "|330620415| 404 EUCLID AVE S...|    san diego|   null|    null|   null| $2,940,238.00| $9,569,262.00|  93.0|Community Develop...|Accion is a nonpr...| 2240870.0|              0.049|    0.01|0.013999999999999999|              0.935|  97.5|    Elizabeth Schott|    92448.0|              0.0412|Lending. Supporti...|    ACCION San Diego| 3463063.0|94.74|   CA|Housing and Neigh...|small|2095213.4500000002|31372.179999999997|         109802.63|\n",
            "|237064937| 3921 EAST BAYSHO...|    palo alto|   null|    null|   null| $1,893,987.00| $1,244,377.00| 100.0|         Environment|Acterra's mission...| 1828322.0|              0.092|    0.15|               0.126| 0.7809999999999999| 86.34|          Adam Stern|   125466.0| 0.06860000000000001|Action for a Heal...|             Acterra| 1795667.0|90.34|   CA|Environmental Pro...|small|1427919.4819999998|230368.57200000001|        168205.624|\n",
            "|510192551| 643 BAIR ISLAND ...| redwood city|   null|    null|   null| $1,586,210.00| $1,527,996.00|  93.0|      Human Services|Adolescent Counse...| 1506807.0|              0.049|    0.12|               0.095| 0.8540000000000001| 85.82|        Philippe Rey|   122116.0|               0.081|Strength through ...|Adolescent Counse...| 1371151.0|88.81|   CA|Youth Development...|small|       1286813.178|        143146.665|         73833.543|\n",
            "|954742741| 1833 W 8TH ST ST...|  los angeles|   null|    null|   null| $2,270,602.00|   $775,370.00| 100.0|              Health|Founded in May of...| 2147395.0|0.11900000000000001|    0.05|0.055999999999999994| 0.8240000000000001| 84.25|    Philip T. Wilson|   153459.0| 0.07139999999999999|Together we are g...|Black AIDS Institute| 2163754.0|88.86|   CA|Diseases, Disorde...|small|1769453.4800000002|120254.11999999998|        255540.005|\n",
            "|954441208| 5670 WILSHIRE BL...|  los angeles|   null|    null|   null| $9,928,272.00| $5,072,334.00|  96.0|      Human Services|After-School All-...|11227675.0|              0.109|    0.08|                0.08|               0.81| 93.85|            Ben Paul|   360586.0|              0.0321|After school and ...|After-School All-...|11886356.0|94.81|   CA|Youth Development...|  mid|        9094416.75|          898214.0|       1223816.575|\n",
            "|943100052| 151 N SUNRISE AV...|    roseville|   null|    null|   null| $5,562,843.00| $2,867,574.00| 100.0|       International|Agape Internation...| 4729691.0|              0.039|    0.05|0.055999999999999994|              0.903|  97.5|  Donald J. Brewster|    80247.0|              0.0169|Rescuing, restori...|Agape Internation...| 5857484.0|98.23|   CA|Development and R...|  mid|       4270910.973|        264862.696|        184457.949|\n",
            "|770325111| 2901 TASMAN DR S...|  santa clara|   null|    null|   null| $2,126,318.00| $3,297,978.00| 100.0|           Education|Founded in 1989, ...| 1910079.0|               0.12|    0.15|               0.099|              0.779| 90.47|        Mario Vargas|   112376.0|              0.0588|Seeding innovativ...|All Stars Helping...|  930082.0|93.26|   CA|Scholarship and F...|small|       1487951.541|        189097.821|229209.47999999998|\n",
            "|954358213| 3333 WILSHIRE BL...|  los angeles|   null|    null|   null| $6,054,356.00|$11,430,768.00| 100.0|      Human Services|The Alliance for ...| 5808946.0|              0.113|    0.08|                0.09| 0.7959999999999999| 95.01|      Jennifer Braun|   105961.0|              0.0182|Family. Education...|Alliance for Chil...| 6263174.0|96.47|   CA|Children's and Fa...|  mid|       4623921.016|522805.13999999996|        656410.898|\n",
            "|020541202| 744 P ST STE 307...|       fresno|   null|    null|   null| $1,501,667.00| $1,291,213.00|  89.0|Arts, Culture, Hu...|Founded in 2001, ...| 1693600.0|              0.177|    0.06|0.055999999999999994|              0.765| 89.01|       Amy Kitchener|   112640.0|              0.0665|Dedicated to sust...|Alliance for Cali...| 1710846.0| 89.0|   CA|     Performing Arts|small|         1295604.0| 94841.59999999999|          299767.2|\n",
            "|943210413| 3666 GRAND AVE S...|      oakland|   null|    null|   null| $4,900,446.00|   $657,028.00|  90.0|           Education|At Alternatives i...| 4028999.0|              0.043|    0.05|               0.067|              0.888|  85.0|    Patricia Murillo|   136421.0|              0.0338|Where Youth Choos...|Alternatives in A...| 5752987.0|87.25|   CA|Youth Education P...|  mid|       3577751.112|        269942.933|        173246.957|\n",
            "|953463975| 9451 INDIANAPOLI...|huntingtn bch|   null|    null|   null| $5,152,432.00| $3,457,061.00| 100.0|      Human Services|Founded in 1980, ...| 4400117.0|              0.071|     0.1|               0.071|              0.856| 90.61|Joanna Richard-Jones|   160624.0|              0.0365|Expert Daily Care...|Alzheimer's Famil...| 5152432.0|93.36|   CA|     Social Services|  mid|       3766500.152|        312408.307|        312408.307|\n",
            "|954604782| 520 3RD ST STE 1...|      oakland|   null|    null|   null| $1,266,161.00|   $652,797.00| 100.0|         Environment|Since 1996, Amazo...| 1686512.0|              0.091|    0.11| 0.10099999999999999| 0.8059999999999999| 75.25| Leila Salazar-Lopez|    97375.0|0.057699999999999994|Protecting the Am...|        Amazon Watch| 1646830.0|82.49|   CA|Environmental Pro...|small|1359328.6719999998|        170337.712|        153472.592|\n",
            "|943180356| 1119 MARKET ST S...|san francisco|   null|    null|   null| $1,582,996.00| $1,680,322.00|  96.0|              Health|Operation Access ...| 1466203.0|              0.077|    0.13|               0.109|              0.813|  81.1|         Jason Beers|   156659.0| 0.10679999999999999|Bridging the Heal...|    Operation Access| 1012813.0|86.33|   CA|Patient and Famil...|small|1192023.0389999999|        159816.127|        112897.631|\n",
            "+---------+--------------------+-------------+-------+--------+-------+--------------+--------------+------+--------------------+--------------------+----------+-------------------+--------+--------------------+-------------------+------+--------------------+-----------+--------------------+--------------------+--------------------+----------+-----+-----+--------------------+-----+------------------+------------------+------------------+\n",
            "only showing top 20 rows\n",
            "\n"
          ],
          "name": "stdout"
        }
      ]
    },
    {
      "cell_type": "code",
      "metadata": {
        "colab": {
          "base_uri": "https://localhost:8080/"
        },
        "id": "whgnR9d_CKAE",
        "outputId": "9f0502b1-3e44-4174-e7aa-3d65924d4d5e"
      },
      "source": [
        "# Query for low Financial Health charities\n",
        "\n",
        "avg_fscore = sqlContext.sql(\"SELECT AVG(fscore) as averge FROM resultTemp WHERE fscore < 100\")\n",
        "\n",
        "avg_fscore_num = avg_fscore.collect()[0][0]\n",
        "\n",
        "avg_fscore.show()\n",
        "\n",
        "# Any score below our average is considered a Low Fanicial Health Charity\n",
        "\n",
        "lowFanHealth = sqlContext.sql(\"SELECT * FROM resultTemp WHERE fscore < \" + str(avg_fscore_num))\n",
        "\n",
        "print(lowFanHealth.count())\n",
        "\n",
        "lowFanHealth.show()"
      ],
      "execution_count": 20,
      "outputs": [
        {
          "output_type": "stream",
          "text": [
            "+-----------------+\n",
            "|           averge|\n",
            "+-----------------+\n",
            "|81.82275422195409|\n",
            "+-----------------+\n",
            "\n",
            "2054\n",
            "+---------+--------------------+-------------+---------------+--------+-------+---------------+--------------+------+--------------------+--------------------+-----------+-------------------+--------+--------------------+-------------------+------+--------------------+-----------+--------------------+--------------------+--------------------+-----------+-----+-----+--------------------+-----+------------------+------------------+------------------+\n",
            "|      EIN|             Address|         City|        Website|Facebook|Twitter|         Income|       Assests|ascore|            category|         description|    tot_exp|        admin_exp_p|fund_eff|          fund_exp_p|      program_exp_p|fscore|              leader|leader_comp|       leader_comp_p|               motto|                name|    tot_rev|score|state|         subcategory| size|       program_exp|          fund_exp|         admin_exp|\n",
            "+---------+--------------------+-------------+---------------+--------+-------+---------------+--------------+------+--------------------+--------------------+-----------+-------------------+--------+--------------------+-------------------+------+--------------------+-----------+--------------------+--------------------+--------------------+-----------+-----+-----+--------------------+-----+------------------+------------------+------------------+\n",
            "|202274095| 1150 S OLIVE ST ...|  los angeles|           null|    null|   null|    $609,118.00|    $84,188.00|  52.0|      Human Services|A Better LA, foun...|   703079.0|                0.2|    0.02|0.022000000000000002| 0.7759999999999999| 72.88|This organization...|       null|                null|A better Los Angeles|         A Better LA|   690118.0|61.01|   CA|Youth Development...|small| 545589.3039999999|15467.738000000001|140615.80000000002|\n",
            "|941546643| 525 E CHARLESTON...|    palo alto|           null|    null|   null|  $6,475,484.00| $3,909,832.00|  96.0|      Human Services|Abilities United ...|  5575172.0|              0.203|    0.14|               0.086| 0.7090000000000001|  72.8|     Charlie Weidanz|   184964.0|              0.0331|We see a world wh...|    Abilities United|  5353115.0|80.55|   CA|     Social Services|  mid|3952796.9480000003|479464.79199999996|       1131759.916|\n",
            "|952283284| 5220 LANKERSHIM ...|  n hollywood|           null|    null|   null| $13,709,270.00|$54,862,967.00|  89.0|           Education|Established as th...|  4363498.0|              0.602|    0.01|                0.04|0.35700000000000004| 68.08|Norma Provencio P...|        0.0|                 0.0|To educate, inspi...|Academy of Televi...| 13492321.0|76.12|   CA|Youth Education P...|  mid|       1557768.786|         174539.92|       2626825.796|\n",
            "|330857142| 1914 MISSION RD ...|    escondido|           null|    null|   null|  $1,002,815.00|   $556,344.00|  62.0|            Religion|Activated Ministr...|  1092977.0|              0.091|    0.42|               0.365|              0.542|  56.2|         Thomas Hack|    90720.0|               0.083|Sharing God's wor...|Activated Ministries|  1063945.0|58.99|   CA|Religious Activities|small|        592393.534|        398936.605| 99460.90699999999|\n",
            "|680226944| 3160 CROW CANYON...|    san ramon|           null|    null|   null|  $2,773,397.00|   $445,576.00|  85.0|      Human Services|Agape Villages (t...|  2614012.0|               0.06|    0.09|               0.038|                0.9|  80.0|         Janet Kleyn|   102580.0|              0.0392|Healing hearts an...|      Agape Villages|  2731542.0|82.32|   CA|Children's and Fa...|small|2352610.8000000003| 99332.45599999999|         156840.72|\n",
            "|521224507| 2360 PROFESSIONA...|   santa rosa|           null|    null|   null| $14,609,598.00|   $514,570.00|  67.0|       International|Aid For Starving ...| 14522855.0|              0.015|    0.03|0.037000000000000005|              0.946|  80.0|     Monte E. Wilson|    30000.0|               0.002|Changing Their Li...|Aid for Starving ...| 14609598.0|72.71|   CA|Humanitarian Reli...|  big|       13738620.83| 537345.6350000001|217842.82499999998|\n",
            "|943081330| 2320 CHANNING WA...|     berkeley|           null|    null|   null|  $1,907,991.00| $1,510,929.00|  82.0|              Health|Alzheimer's Servi...|  2423878.0|0.21600000000000003|    0.15|                0.04|              0.743| 68.66|        Micheal Pope|   122911.0|              0.0507|Life is a journey...|Alzheimer's Servi...|  1969033.0|74.44|   CA|Diseases, Disorde...|small|       1800941.354|          96955.12|523557.64800000004|\n",
            "|954604782| 520 3RD ST STE 1...|      oakland|           null|    null|   null|  $1,266,161.00|   $652,797.00| 100.0|         Environment|Since 1996, Amazo...|  1686512.0|              0.091|    0.11| 0.10099999999999999| 0.8059999999999999| 75.25| Leila Salazar-Lopez|    97375.0|0.057699999999999994|Protecting the Am...|        Amazon Watch|  1646830.0|82.49|   CA|Environmental Pro...|small|1359328.6719999998|        170337.712|        153472.592|\n",
            "|943180356| 1119 MARKET ST S...|san francisco|           null|    null|   null|  $1,582,996.00| $1,680,322.00|  96.0|              Health|Operation Access ...|  1466203.0|              0.077|    0.13|               0.109|              0.813|  81.1|         Jason Beers|   156659.0| 0.10679999999999999|Bridging the Heal...|    Operation Access|  1012813.0|86.33|   CA|Patient and Famil...|small|1192023.0389999999|        159816.127|        112897.631|\n",
            "|526072925| 2021 N WESTERN A...|  los angeles|           null|    null|   null| $30,974,855.00|$45,174,282.00|  86.0|Arts, Culture, Hu...|The American Film...| 30818470.0|              0.113|    0.28|               0.122|              0.763| 76.13|         Bob Gazzale|   591365.0|              0.0191|Celebrating excel...|American Film Ins...| 30911412.0|80.43|   CA|             Museums|  big|       23514492.61|        3759853.34|        3482487.11|\n",
            "|133441742| 229 N CENTRAL AV...|     glendale|           null|    null|   null|    $431,051.00|   $885,853.00| 100.0|       International|The American Frie...|   492665.0|0.11699999999999999|    0.15|               0.128|              0.753| 77.22|      Scott Brockman|    95000.0|              0.1928|Dedicated to dial...|American Friends ...|   380983.0|83.89|   CA|International Pea...|small|        370976.745|          63061.12| 57641.80499999999|\n",
            "|311802788| 300 BROADWAY STE...|san francisco|           null|    null|   null|  $1,672,258.00|   $507,166.00| 100.0|             Animals|Animals Asia is d...|  1598112.0|              0.102|    0.14|               0.147|               0.75| 80.38|        Paula Burton|   125000.0|              0.0782|Devoted to ending...|Animals Asia Foun...|  1655415.0|86.12|   CA|Wildlife Conserva...|small|         1198584.0|234922.46399999998|        163007.424|\n",
            "|954673306| 3278 WILSHIRE BL...|  los angeles|           null|    null|   null|  $2,846,771.00| $6,290,207.00|  77.0|              Health|The Art of Elysiu...|  1278781.0|              0.168|    0.19| 0.20199999999999999|              0.628|  73.8|Jennifer Kristen ...|    99308.0|              0.0776|We empower artist...|  The Art of Elysium|  1829727.0|75.34|   CA|Patient and Famil...|small|        803074.468|        258313.762|        214835.208|\n",
            "|941191246| 465 CALIFORNIA S...|san francisco|           null|    null|   null|$115,938,711.00|$61,325,328.00| 100.0|       International|The Asia Foundati...|104446388.0|              0.106|    0.01|               0.003|              0.889|  77.5|        David Arnold|   414366.0|0.003900000000000...|Working to build ...| The Asia Foundation|106944143.0|84.09|   CA|International Pea...|  big|      92852838.932|        313339.164|      11071317.128|\n",
            "|953755203| 5 3RD ST STE 110...|san francisco|           null|    null|   null|  $1,553,960.00| $2,903,685.00|  82.0|Human and Civil R...|The Asian America...|  1489753.0|0.11900000000000001|    0.34|                0.36|               0.52| 75.57|          Kathy Chow|   117500.0|              0.0788|The forefront of ...|Asian American Jo...|  1744387.0|78.54|   CA|Advocacy and Educ...|small|         774671.56|         536311.08|177280.60700000002|\n",
            "|953685184| 2310 E PONDEROSA...|    camarillo|           null|    null|   null|  $3,263,039.00|   $464,961.00|  52.0|            Religion|Radio Nueva Vida ...|  3190144.0|0.07400000000000001|    0.14|                0.11| 0.8140000000000001| 63.98|      Philip Guthrie|    80668.0|              0.0252|Non-commercial ed...|    Radio Nueva Vida|  3263039.0|57.56|   CA|Religious Media a...|small|       2596777.216|         350915.84|236070.65600000005|\n",
            "|946069140| 4900 SHORELINE H...|stinson beach|           null|    null|   null|  $5,479,157.00|$37,852,719.00| 100.0|         Environment|Audubon Canyon Ra...|  3214289.0|              0.192|    0.35|               0.134|              0.672| 81.25|       John Petersen|   131670.0|              0.0409|Preservation, Edu...|Audubon Canyon Ranch|  4901633.0|86.74|   CA|Botanical Gardens...|small|       2160002.208|        430714.726|        617143.488|\n",
            "|222570926| 2121 ALTON PKWY ...|       irvine|           null|    null|   null|  $8,659,631.00| $5,953,152.00|  89.0|Research and Publ...|The Ayn Rand Inst...|  9513258.0|              0.063|    0.11| 0.10800000000000001| 0.8270000000000001| 69.34|         Yaron Brook|   285910.0|                0.03|The center for th...|The Ayn Rand Inst...|  9211323.0|76.96|   CA|Social and Public...|  mid|       7867464.366|1027431.8640000002|        599335.254|\n",
            "|530179971| 766 23RD AVE  94...|san francisco|http://bbyo.org|    null|   null|  $8,123,126.00| $3,798,801.00|  93.0|       International|B'nai B'rith Inte...|  7934468.0|              0.134|    0.27|                0.23|              0.634| 51.55|Daniel S. Mariaschin|   409128.0|0.051500000000000004|The global voice ...|B'nai B'rith Inte...|  7205928.0|65.38|   DC|International Pea...|  mid|       5030452.712|1824927.6400000001|       1063218.712|\n",
            "|946124054| 2114 MACDONALD A...|     richmond|           null|    null|   null| $10,768,696.00| $4,311,145.00|  97.0|      Human Services|Since 1965, the B...|  9971930.0|              0.084|    0.15|                0.16|              0.755| 72.28|Rev. John M. Ande...|   166969.0|              0.0167|Helping the homel...|Bay Area Rescue M...| 10056178.0|80.28|   CA|   Homeless Services|  mid|        7528807.15|         1595508.8|         837642.12|\n",
            "+---------+--------------------+-------------+---------------+--------+-------+---------------+--------------+------+--------------------+--------------------+-----------+-------------------+--------+--------------------+-------------------+------+--------------------+-----------+--------------------+--------------------+--------------------+-----------+-----+-----+--------------------+-----+------------------+------------------+------------------+\n",
            "only showing top 20 rows\n",
            "\n"
          ],
          "name": "stdout"
        }
      ]
    },
    {
      "cell_type": "code",
      "metadata": {
        "id": "hdXFCBsRC09l",
        "colab": {
          "base_uri": "https://localhost:8080/"
        },
        "outputId": "7df8e4d4-cea1-4547-92fb-cd15b078112e"
      },
      "source": [
        "# Query for High Rated charities\n",
        "# Upoon investigation, I found that the some of the States were 86.1 adn 81.68 and were causing and invalid average so they were removed from the average computation. \n",
        "\n",
        "avg_score = sqlContext.sql(\"SELECT AVG(score) as average FROM resultTemp WHERE score < 100\" )\n",
        "\n",
        "avg_score.show()\n",
        "\n",
        "avg_score_num = avg_score.collect()[0][0]\n",
        "\n",
        "print(avg_score_num)\n",
        "\n",
        "# Any score above our average is considered a High Ratedy Charity\n",
        "\n",
        "highRated = sqlContext.sql(\"SELECT * FROM resultTemp WHERE score > \" + str(avg_score_num))\n",
        "\n",
        "print(highRated.count())\n",
        "\n",
        "highRated.show()"
      ],
      "execution_count": 21,
      "outputs": [
        {
          "output_type": "stream",
          "text": [
            "+----------------+\n",
            "|         average|\n",
            "+----------------+\n",
            "|85.3423696813352|\n",
            "+----------------+\n",
            "\n",
            "85.3423696813352\n",
            "4445\n",
            "+---------+--------------------+-------------+-------+--------+-------+--------------+---------------+------+--------------------+--------------------+----------+-------------------+--------+--------------------+------------------+------+--------------------+-----------+--------------------+--------------------+--------------------+----------+-----+-----+--------------------+-----+------------------+------------------+------------------+\n",
            "|      EIN|             Address|         City|Website|Facebook|Twitter|        Income|        Assests|ascore|            category|         description|   tot_exp|        admin_exp_p|fund_eff|          fund_exp_p|     program_exp_p|fscore|              leader|leader_comp|       leader_comp_p|               motto|                name|   tot_rev|score|state|         subcategory| size|       program_exp|          fund_exp|         admin_exp|\n",
            "+---------+--------------------+-------------+-------+--------+-------+--------------+---------------+------+--------------------+--------------------+----------+-------------------+--------+--------------------+------------------+------+--------------------+-----------+--------------------+--------------------+--------------------+----------+-----+-----+--------------------+-----+------------------+------------------+------------------+\n",
            "|953667812| 1650 LOS GAMOS S...|   san rafael|   null|    null|   null| $8,425,395.00|  $9,151,328.00|  96.0|           Education|A leading college...| 7953651.0|              0.149|    0.13|               0.146|             0.703| 86.78|         Kim Mazzuca|   161447.0|              0.0202|Creating College ...|      10,000 Degrees| 9429163.0|90.23|   CA|Scholarship and F...|  mid|       5591416.653|1161233.0459999999|1185093.9989999998|\n",
            "|900018359| 1611 TELEGRAPH A...|      oakland|   null|    null|   null| $3,381,642.00|  $1,008,095.00|  89.0|       International|Founded in 1996, ...| 3532356.0|              0.098|    0.12|               0.122|             0.778| 82.94| Rebecca Vilkomerson|    91683.0|              0.0259|Opposing anti-Jew...|A Jewish Voice fo...| 3381642.0|85.64|   CA|International Pea...|  mid|       2748172.968|        430947.432|346170.88800000004|\n",
            "|954443878| 3352 E FOOTHILL ...|     pasadena|   null|    null|   null| $3,096,607.00| $12,927,835.00|  92.0|Arts, Culture, Hu...|A Noise Within pr...| 3138360.0|              0.075|    0.17|               0.075|             0.848| 97.44|       Geoff Elliott|    93028.0|              0.0296|Classic Theatre, ...|      A Noise Within| 2952513.0|94.06|   CA|     Performing Arts|small|        2661329.28|          235377.0|          235377.0|\n",
            "|954427291| 2830 S CENTRAL A...|  los angeles|   null|    null|   null| $6,180,634.00|  $7,843,441.00|  96.0|      Human Services|A Place Called Ho...| 6168906.0|              0.114|     0.1|               0.122|             0.762| 92.48|   Jonathan Zeichner|   177615.0|              0.0287|A positive enviro...| A Place Called Home| 8048297.0|93.97|   CA|Youth Development...|  mid|       4700706.372|        752606.532|        703255.284|\n",
            "|943087060| 40849 FREMONT BL...|      fremont|   null|    null|   null|$28,824,642.00| $16,783,525.00| 100.0|      Human Services|Established in 19...|39690545.0|              0.062|    0.02|0.022000000000000002|             0.914|  92.5|   Louis D. Chicoine|   207681.0|              0.0052|Because everyone ...|      Abode Services|46596124.0|94.69|   CA|   Homeless Services|  big|       36277158.13| 873191.9900000001|        2460813.79|\n",
            "|330620415| 404 EUCLID AVE S...|    san diego|   null|    null|   null| $2,940,238.00|  $9,569,262.00|  93.0|Community Develop...|Accion is a nonpr...| 2240870.0|              0.049|    0.01|0.013999999999999999|             0.935|  97.5|    Elizabeth Schott|    92448.0|              0.0412|Lending. Supporti...|    ACCION San Diego| 3463063.0|94.74|   CA|Housing and Neigh...|small|2095213.4500000002|31372.179999999997|         109802.63|\n",
            "|952673361| 1313 WEST EIGHTH...|  los angeles|   null|    null|   null|$27,542,180.00| $47,993,564.00|  85.0|Human and Civil R...|The ACLU Foundati...|15441711.0|              0.071|    0.05|                0.07|             0.857|  97.5|     Hector Villagra|   166513.0|0.010700000000000001|   Stand for justice|ACLU Foundation o...|23559601.0|89.24|   CA|Advocacy and Educ...|  big|      13233546.327|        1080919.77|       1096361.481|\n",
            "|237064937| 3921 EAST BAYSHO...|    palo alto|   null|    null|   null| $1,893,987.00|  $1,244,377.00| 100.0|         Environment|Acterra's mission...| 1828322.0|              0.092|    0.15|               0.126|0.7809999999999999| 86.34|          Adam Stern|   125466.0| 0.06860000000000001|Action for a Heal...|             Acterra| 1795667.0|90.34|   CA|Environmental Pro...|small|1427919.4819999998|230368.57200000001|        168205.624|\n",
            "|510192551| 643 BAIR ISLAND ...| redwood city|   null|    null|   null| $1,586,210.00|  $1,527,996.00|  93.0|      Human Services|Adolescent Counse...| 1506807.0|              0.049|    0.12|               0.095|0.8540000000000001| 85.82|        Philippe Rey|   122116.0|               0.081|Strength through ...|Adolescent Counse...| 1371151.0|88.81|   CA|Youth Development...|small|       1286813.178|        143146.665|         73833.543|\n",
            "|954742741| 1833 W 8TH ST ST...|  los angeles|   null|    null|   null| $2,270,602.00|    $775,370.00| 100.0|              Health|Founded in May of...| 2147395.0|0.11900000000000001|    0.05|0.055999999999999994|0.8240000000000001| 84.25|    Philip T. Wilson|   153459.0| 0.07139999999999999|Together we are g...|Black AIDS Institute| 2163754.0|88.86|   CA|Diseases, Disorde...|small|1769453.4800000002|120254.11999999998|        255540.005|\n",
            "|954441208| 5670 WILSHIRE BL...|  los angeles|   null|    null|   null| $9,928,272.00|  $5,072,334.00|  96.0|      Human Services|After-School All-...|11227675.0|              0.109|    0.08|                0.08|              0.81| 93.85|            Ben Paul|   360586.0|              0.0321|After school and ...|After-School All-...|11886356.0|94.81|   CA|Youth Development...|  mid|        9094416.75|          898214.0|       1223816.575|\n",
            "|943100052| 151 N SUNRISE AV...|    roseville|   null|    null|   null| $5,562,843.00|  $2,867,574.00| 100.0|       International|Agape Internation...| 4729691.0|              0.039|    0.05|0.055999999999999994|             0.903|  97.5|  Donald J. Brewster|    80247.0|              0.0169|Rescuing, restori...|Agape Internation...| 5857484.0|98.23|   CA|Development and R...|  mid|       4270910.973|        264862.696|        184457.949|\n",
            "|770325111| 2901 TASMAN DR S...|  santa clara|   null|    null|   null| $2,126,318.00|  $3,297,978.00| 100.0|           Education|Founded in 1989, ...| 1910079.0|               0.12|    0.15|               0.099|             0.779| 90.47|        Mario Vargas|   112376.0|              0.0588|Seeding innovativ...|All Stars Helping...|  930082.0|93.26|   CA|Scholarship and F...|small|       1487951.541|        189097.821|229209.47999999998|\n",
            "|954358213| 3333 WILSHIRE BL...|  los angeles|   null|    null|   null| $6,054,356.00| $11,430,768.00| 100.0|      Human Services|The Alliance for ...| 5808946.0|              0.113|    0.08|                0.09|0.7959999999999999| 95.01|      Jennifer Braun|   105961.0|              0.0182|Family. Education...|Alliance for Chil...| 6263174.0|96.47|   CA|Children's and Fa...|  mid|       4623921.016|522805.13999999996|        656410.898|\n",
            "|020541202| 744 P ST STE 307...|       fresno|   null|    null|   null| $1,501,667.00|  $1,291,213.00|  89.0|Arts, Culture, Hu...|Founded in 2001, ...| 1693600.0|              0.177|    0.06|0.055999999999999994|             0.765| 89.01|       Amy Kitchener|   112640.0|              0.0665|Dedicated to sust...|Alliance for Cali...| 1710846.0| 89.0|   CA|     Performing Arts|small|         1295604.0| 94841.59999999999|          299767.2|\n",
            "|943210413| 3666 GRAND AVE S...|      oakland|   null|    null|   null| $4,900,446.00|    $657,028.00|  90.0|           Education|At Alternatives i...| 4028999.0|              0.043|    0.05|               0.067|             0.888|  85.0|    Patricia Murillo|   136421.0|              0.0338|Where Youth Choos...|Alternatives in A...| 5752987.0|87.25|   CA|Youth Education P...|  mid|       3577751.112|        269942.933|        173246.957|\n",
            "|953463975| 9451 INDIANAPOLI...|huntingtn bch|   null|    null|   null| $5,152,432.00|  $3,457,061.00| 100.0|      Human Services|Founded in 1980, ...| 4400117.0|              0.071|     0.1|               0.071|             0.856| 90.61|Joanna Richard-Jones|   160624.0|              0.0365|Expert Daily Care...|Alzheimer's Famil...| 5152432.0|93.36|   CA|     Social Services|  mid|       3766500.152|        312408.307|        312408.307|\n",
            "|943180356| 1119 MARKET ST S...|san francisco|   null|    null|   null| $1,582,996.00|  $1,680,322.00|  96.0|              Health|Operation Access ...| 1466203.0|              0.077|    0.13|               0.109|             0.813|  81.1|         Jason Beers|   156659.0| 0.10679999999999999|Bridging the Heal...|    Operation Access| 1012813.0|86.33|   CA|Patient and Famil...|small|1192023.0389999999|        159816.127|        112897.631|\n",
            "|940279770| 39 DRUMM ST  941...|san francisco|   null|    null|   null|$18,521,853.00| $39,922,680.00|  96.0|Human and Civil R...|The American Civi...|11104423.0|              0.152|    0.12| 0.17300000000000001|             0.674| 82.47|       Abdol Soltani|   142498.0|              0.0128|Protecting civil ...|American Civil Li...|18507719.0|87.28|   CA|Advocacy and Educ...|  mid| 7484381.102000001|1921065.1790000002|1687872.2959999999|\n",
            "|946135772| 30 GRANT AVE 7TH...|san francisco|   null|    null|   null|$23,801,667.00|$103,453,008.00|  89.0|Arts, Culture, Hu...|Founded in 1965, ...|23341174.0|0.11699999999999999|    0.14|0.057999999999999996|0.8240000000000001| 89.86|     Peter Pastreich|   128997.0|0.005500000000000...|Nurturing the art...|American Conserva...|20637532.0|89.42|   CA|     Performing Arts|  big|19233127.376000002|       1353788.092|       2730917.358|\n",
            "+---------+--------------------+-------------+-------+--------+-------+--------------+---------------+------+--------------------+--------------------+----------+-------------------+--------+--------------------+------------------+------+--------------------+-----------+--------------------+--------------------+--------------------+----------+-----+-----+--------------------+-----+------------------+------------------+------------------+\n",
            "only showing top 20 rows\n",
            "\n"
          ],
          "name": "stdout"
        }
      ]
    },
    {
      "cell_type": "code",
      "metadata": {
        "colab": {
          "base_uri": "https://localhost:8080/"
        },
        "id": "T8jhp6jSElpt",
        "outputId": "17174602-b6ad-4acc-9217-824b64438052"
      },
      "source": [
        "# Query for Highly Expense charities\n",
        "\n",
        "avg_expense = sqlContext.sql(\"SELECT AVG(tot_exp) as averge FROM resultTemp\")\n",
        "\n",
        "avg_expense.show()\n",
        "\n",
        "avg_expense_num = avg_expense.collect()[0][0]\n",
        "\n",
        "print(avg_expense_num)\n",
        "\n",
        "# Any score above our average is considered a Highly Expense Charity\n",
        "\n",
        "highExpense = result.filter(result[\"tot_exp\"] > avg_expense_num)\n",
        "\n",
        "testp = sqlContext.sql(\"SELECT * FROM resultTemp WHERE tot_exp > \" + str(avg_expense_num))\n",
        "\n",
        "print(highExpense.count())\n",
        "\n",
        "highExpense.show()\n",
        "testp.show()\n",
        "print(testp.count())"
      ],
      "execution_count": 33,
      "outputs": [
        {
          "output_type": "stream",
          "text": [
            "+--------------------+\n",
            "|              averge|\n",
            "+--------------------+\n",
            "|1.4436565872562567E7|\n",
            "+--------------------+\n",
            "\n",
            "14436565.872562567\n",
            "1053\n",
            "+---------+---------+--------------------+-------------+-------+--------+-------+---------------+-----------------+------+--------------------+--------------------+-----------+--------------------+--------+--------------------+------------------+------+--------------------+-----------+--------------------+--------------------+--------------------+-----------+-----+-----+--------------------+----+------------------+------------------+------------------+\n",
            "|      EIN|Telephone|             Address|         City|Website|Facebook|Twitter|         Income|          Assests|ascore|            category|         description|    tot_exp|         admin_exp_p|fund_eff|          fund_exp_p|     program_exp_p|fscore|              leader|leader_comp|       leader_comp_p|               motto|                name|    tot_rev|score|state|         subcategory|size|       program_exp|          fund_exp|         admin_exp|\n",
            "+---------+---------+--------------------+-------------+-------+--------+-------+---------------+-----------------+------+--------------------+--------------------+-----------+--------------------+--------+--------------------+------------------+------+--------------------+-----------+--------------------+--------------------+--------------------+-----------+-----+-----+--------------------+----+------------------+------------------+------------------+\n",
            "|943087060|      N/A| 40849 FREMONT BL...|      fremont|   null|    null|   null| $28,824,642.00|   $16,783,525.00| 100.0|      Human Services|Established in 19...| 39690545.0|               0.062|    0.02|0.022000000000000002|             0.914|  92.5|   Louis D. Chicoine|   207681.0|              0.0052|Because everyone ...|      Abode Services| 46596124.0|94.69|   CA|   Homeless Services| big|       36277158.13| 873191.9900000001|        2460813.79|\n",
            "|952673361|      N/A| 1313 WEST EIGHTH...|  los angeles|   null|    null|   null| $27,542,180.00|   $47,993,564.00|  85.0|Human and Civil R...|The ACLU Foundati...| 15441711.0|               0.071|    0.05|                0.07|             0.857|  97.5|     Hector Villagra|   166513.0|0.010700000000000001|   Stand for justice|ACLU Foundation o...| 23559601.0|89.24|   CA|Advocacy and Educ...| big|      13233546.327|        1080919.77|       1096361.481|\n",
            "|521224507|      N/A| 2360 PROFESSIONA...|   santa rosa|   null|    null|   null| $14,609,598.00|      $514,570.00|  67.0|       International|Aid For Starving ...| 14522855.0|               0.015|    0.03|0.037000000000000005|             0.946|  80.0|     Monte E. Wilson|    30000.0|               0.002|Changing Their Li...|Aid for Starving ...| 14609598.0|72.71|   CA|Humanitarian Reli...| big|       13738620.83| 537345.6350000001|217842.82499999998|\n",
            "|946135772|      N/A| 30 GRANT AVE 7TH...|san francisco|   null|    null|   null| $23,801,667.00|  $103,453,008.00|  89.0|Arts, Culture, Hu...|Founded in 1965, ...| 23341174.0| 0.11699999999999999|    0.14|0.057999999999999996|0.8240000000000001| 89.86|     Peter Pastreich|   128997.0|0.005500000000000...|Nurturing the art...|American Conserva...| 20637532.0|89.42|   CA|     Performing Arts| big|19233127.376000002|       1353788.092|       2730917.358|\n",
            "|526072925|      N/A| 2021 N WESTERN A...|  los angeles|   null|    null|   null| $30,974,855.00|   $45,174,282.00|  86.0|Arts, Culture, Hu...|The American Film...| 30818470.0|               0.113|    0.28|               0.122|             0.763| 76.13|         Bob Gazzale|   591365.0|              0.0191|Celebrating excel...|American Film Ins...| 30911412.0|80.43|   CA|             Museums| big|       23514492.61|        3759853.34|        3482487.11|\n",
            "|770480427|      N/A| 1501 PAGE MILL R...|    palo alto|   null|    null|   null| $22,051,096.00|    $9,018,789.00| 100.0|           Education|The Anita Borg In...| 19390962.0|               0.131|    0.04|                0.03|0.8370000000000001| 89.62|       Telle Whitney|   324117.0|              0.0167|Technology transf...|Anita Borg Institute| 22032601.0|92.66|   CA|Adult Education P...| big|16230235.194000002|         581728.86|       2540216.022|\n",
            "|330532354|      N/A| 100 AQUARIUM WAY...|   long beach|   null|    null|   null| $56,301,591.00|   $56,635,121.00|  97.0|             Animals|The Aquarium's mi...| 31141128.0|               0.127|    0.13|               0.049|0.8220000000000001| 88.61|       Jerry Schubel|   406300.0|0.013000000000000001|Instilling a sens...|Aquarium of the P...| 52904926.0|91.67|   CA|  Zoos and Aquariums| big|25598007.216000002|       1525915.272|       3954923.256|\n",
            "|954217197|      N/A| 10899 WILSHIRE B...|  los angeles|   null|    null|   null| $69,121,029.00|  $238,284,655.00| 100.0|Arts, Culture, Hu...|The Hammer Museum...| 25445841.0|               0.159|    0.09|               0.102|             0.737| 94.68|         Ann Philbin|   475573.0|0.018600000000000002|Believes in the p...|       Hammer Museum| 60204859.0|96.23|   CA|             Museums| big|18753584.816999998|2595475.7819999997|       4045888.719|\n",
            "|941191246|      N/A| 465 CALIFORNIA S...|san francisco|   null|    null|   null|$115,938,711.00|   $61,325,328.00| 100.0|       International|The Asia Foundati...|104446388.0|               0.106|    0.01|               0.003|             0.889|  77.5|        David Arnold|   414366.0|0.003900000000000...|Working to build ...| The Asia Foundation|106944143.0|84.09|   CA|International Pea...| big|      92852838.932|        313339.164|      11071317.128|\n",
            "|941679756|      N/A| 999 HARRISON ST ...|     berkeley|   null|    null|   null| $21,622,457.00|   $48,127,170.00| 100.0|Arts, Culture, Hu...|Founded in 1968 a...| 20346600.0| 0.09699999999999999|    0.15|               0.064|0.8370000000000001| 92.12|         Susan Medak|   241473.0|              0.0118|The East Bay's fi...|Berkeley Repertor...| 19580585.0|94.42|   CA|     Performing Arts| big|17030104.200000003|1302182.4000000001|1973620.1999999997|\n",
            "|941156608|      N/A| 380 FULTON ST  9...|san francisco|   null|    null|   null| $16,292,559.00|  $112,218,716.00| 100.0|      Human Services|We inspire and en...| 22351367.0|               0.102|    0.09| 0.08199999999999999|0.8140000000000001| 93.97|        Rob Connolly|   249967.0|              0.0111|Great Futures Sta...|Boys & Girls Club...| 15922613.0|95.73|   CA|Youth Development...| big|      18194012.738|1832812.0939999998|       2279839.434|\n",
            "|951641426|      N/A| 741 N VERMONT AV...|  los angeles|   null|    null|   null| $35,807,995.00|  $181,909,301.00|  96.0|      Human Services|Founded in 1919, ...| 23465454.0|                 0.1|    0.16|               0.145|             0.753| 82.22|      Peter Mindnich|   311359.0|              0.0132|Empowering visual...|Braille Institute...| 34058059.0|87.11|   CA|     Social Services| big|      17669486.862|3402490.8299999996|         2346545.4|\n",
            "|941156258|      N/A| 55 MUSIC CONCOUR...|san francisco|   null|    null|   null|$930,156,457.00|  $844,166,045.00|  96.0|Arts, Culture, Hu...|As the world's gr...| 87733463.0|               0.267|    0.09|                0.04|             0.691| 75.78|      Jonathan Foley|   398674.0|0.004500000000000...|Explore, Explain ...|California Academ...| 76308977.0|82.64|   CA|             Museums| big|      60623822.933|        3509338.52|23424834.621000003|\n",
            "|510465703|      N/A| 250 E 1ST STREET...|  los angeles|   null|    null|   null| $23,061,448.00|   $27,006,941.00|  89.0|           Education|Founded in 2003, ...| 24280771.0|                0.13|    0.02|0.018000000000000002|             0.851|  87.5|         Jed Wallace|   312822.0|              0.0128|Empowering parent...|California Charte...| 23426909.0|88.22|   CA|Education Policy ...| big|      20662936.121|        437053.878|        3156500.23|\n",
            "|953510055|      N/A| 221 S FIGUEROA S...|  los angeles|   null|    null|   null|$355,006,625.00|$1,276,625,567.00|  96.0|Community Develop...|For more than 100...|189261881.0|               0.046|    0.01|0.013999999999999999|             0.938| 88.28|   Antonia Hernandez|   503645.0|              0.0026|Building Los Ange...|California Commun...|339762982.0|91.24|   CA|Community Foundat...| big|     177527644.378|       2649666.334|       8706046.526|\n",
            "|680275330|      N/A| 5800 FOODLINK ST...|   sacramento|   null|    null|   null| $41,747,586.00|   $19,831,319.00|  93.0|      Human Services|California Emerge...| 41035733.0|               0.012|    0.01|               0.001|             0.986| 95.28|         John Healey|   109000.0|              0.0026|Providing jobs, p...|California Emerge...| 41747586.0|94.03|   CA|Food Banks, Food ...| big|      40461232.738|         41035.733|492428.79600000003|\n",
            "|952210527|      N/A| 700 EXPOSITION P...|  los angeles|   null|    null|   null| $69,819,559.00|  $112,113,811.00|  89.0|Arts, Culture, Hu...|The California Sc...| 25189988.0|0.054000000000000006|    0.07|               0.049|             0.895|  80.0|  Jeffrey N. Rudolph|    44756.0|0.001700000000000...|Science learning ...|California Scienc...| 34530522.0|83.85|   CA|             Museums| big|       22545039.26|       1234309.412|1360259.3520000002|\n",
            "|942494324|      N/A| 2965 DUTTON AVE ...|   santa rosa|   null|    null|   null| $43,691,290.00|   $64,681,007.00| 100.0|             Animals|Founded in 1975 a...| 26185688.0|               0.062|     0.2|               0.222|             0.715| 83.64|   Kathryn M Marquet|    18462.0|0.000700000000000...|Exceptional dogs ...|Canine Companions...| 31135417.0|88.43|   CA|Animal Rights, We...| big|18722766.919999998|5813222.7360000005|       1623512.656|\n",
            "|951690973|      N/A| 1531 JAMES M WOO...|  los angeles|   null|    null|   null| $37,714,099.00|   $67,606,599.00|  96.0|      Human Services|Since 1919, Catho...| 38301614.0|               0.095|    0.01|               0.012|             0.892| 96.33|Rev. Monsignor Gr...|    43452.0|              0.0011|Providing service...|Catholic Charitie...| 38612096.0|96.16|   CA|     Social Services| big|      34165039.688|        459619.368|        3638653.33|\n",
            "|941498472|      N/A| 990 EDDY ST  941...|san francisco|   null|    null|   null| $41,874,562.00|   $40,235,821.00| 100.0|Community Develop...|Founded in 1907 t...| 39675865.0|               0.113|    0.03|0.027000000000000003|             0.858| 87.57|         Jeff Bialik|   250825.0|              0.0063|Serving people of...|Catholic Charitie...| 41418449.0|91.21|   CA|Housing and Neigh...| big|       34041892.17|1071248.3550000002|       4483372.745|\n",
            "+---------+---------+--------------------+-------------+-------+--------+-------+---------------+-----------------+------+--------------------+--------------------+-----------+--------------------+--------+--------------------+------------------+------+--------------------+-----------+--------------------+--------------------+--------------------+-----------+-----+-----+--------------------+----+------------------+------------------+------------------+\n",
            "only showing top 20 rows\n",
            "\n",
            "+---------+---------+--------------------+-------------+-------+--------+-------+---------------+-----------------+------+--------------------+--------------------+-----------+--------------------+--------+--------------------+------------------+------+--------------------+-----------+--------------------+--------------------+--------------------+-----------+-----+-----+--------------------+----+------------------+------------------+------------------+\n",
            "|      EIN|Telephone|             Address|         City|Website|Facebook|Twitter|         Income|          Assests|ascore|            category|         description|    tot_exp|         admin_exp_p|fund_eff|          fund_exp_p|     program_exp_p|fscore|              leader|leader_comp|       leader_comp_p|               motto|                name|    tot_rev|score|state|         subcategory|size|       program_exp|          fund_exp|         admin_exp|\n",
            "+---------+---------+--------------------+-------------+-------+--------+-------+---------------+-----------------+------+--------------------+--------------------+-----------+--------------------+--------+--------------------+------------------+------+--------------------+-----------+--------------------+--------------------+--------------------+-----------+-----+-----+--------------------+----+------------------+------------------+------------------+\n",
            "|943087060|      N/A| 40849 FREMONT BL...|      fremont|   null|    null|   null| $28,824,642.00|   $16,783,525.00| 100.0|      Human Services|Established in 19...| 39690545.0|               0.062|    0.02|0.022000000000000002|             0.914|  92.5|   Louis D. Chicoine|   207681.0|              0.0052|Because everyone ...|      Abode Services| 46596124.0|94.69|   CA|   Homeless Services| big|       36277158.13| 873191.9900000001|        2460813.79|\n",
            "|952673361|      N/A| 1313 WEST EIGHTH...|  los angeles|   null|    null|   null| $27,542,180.00|   $47,993,564.00|  85.0|Human and Civil R...|The ACLU Foundati...| 15441711.0|               0.071|    0.05|                0.07|             0.857|  97.5|     Hector Villagra|   166513.0|0.010700000000000001|   Stand for justice|ACLU Foundation o...| 23559601.0|89.24|   CA|Advocacy and Educ...| big|      13233546.327|        1080919.77|       1096361.481|\n",
            "|521224507|      N/A| 2360 PROFESSIONA...|   santa rosa|   null|    null|   null| $14,609,598.00|      $514,570.00|  67.0|       International|Aid For Starving ...| 14522855.0|               0.015|    0.03|0.037000000000000005|             0.946|  80.0|     Monte E. Wilson|    30000.0|               0.002|Changing Their Li...|Aid for Starving ...| 14609598.0|72.71|   CA|Humanitarian Reli...| big|       13738620.83| 537345.6350000001|217842.82499999998|\n",
            "|946135772|      N/A| 30 GRANT AVE 7TH...|san francisco|   null|    null|   null| $23,801,667.00|  $103,453,008.00|  89.0|Arts, Culture, Hu...|Founded in 1965, ...| 23341174.0| 0.11699999999999999|    0.14|0.057999999999999996|0.8240000000000001| 89.86|     Peter Pastreich|   128997.0|0.005500000000000...|Nurturing the art...|American Conserva...| 20637532.0|89.42|   CA|     Performing Arts| big|19233127.376000002|       1353788.092|       2730917.358|\n",
            "|526072925|      N/A| 2021 N WESTERN A...|  los angeles|   null|    null|   null| $30,974,855.00|   $45,174,282.00|  86.0|Arts, Culture, Hu...|The American Film...| 30818470.0|               0.113|    0.28|               0.122|             0.763| 76.13|         Bob Gazzale|   591365.0|              0.0191|Celebrating excel...|American Film Ins...| 30911412.0|80.43|   CA|             Museums| big|       23514492.61|        3759853.34|        3482487.11|\n",
            "|770480427|      N/A| 1501 PAGE MILL R...|    palo alto|   null|    null|   null| $22,051,096.00|    $9,018,789.00| 100.0|           Education|The Anita Borg In...| 19390962.0|               0.131|    0.04|                0.03|0.8370000000000001| 89.62|       Telle Whitney|   324117.0|              0.0167|Technology transf...|Anita Borg Institute| 22032601.0|92.66|   CA|Adult Education P...| big|16230235.194000002|         581728.86|       2540216.022|\n",
            "|330532354|      N/A| 100 AQUARIUM WAY...|   long beach|   null|    null|   null| $56,301,591.00|   $56,635,121.00|  97.0|             Animals|The Aquarium's mi...| 31141128.0|               0.127|    0.13|               0.049|0.8220000000000001| 88.61|       Jerry Schubel|   406300.0|0.013000000000000001|Instilling a sens...|Aquarium of the P...| 52904926.0|91.67|   CA|  Zoos and Aquariums| big|25598007.216000002|       1525915.272|       3954923.256|\n",
            "|954217197|      N/A| 10899 WILSHIRE B...|  los angeles|   null|    null|   null| $69,121,029.00|  $238,284,655.00| 100.0|Arts, Culture, Hu...|The Hammer Museum...| 25445841.0|               0.159|    0.09|               0.102|             0.737| 94.68|         Ann Philbin|   475573.0|0.018600000000000002|Believes in the p...|       Hammer Museum| 60204859.0|96.23|   CA|             Museums| big|18753584.816999998|2595475.7819999997|       4045888.719|\n",
            "|941191246|      N/A| 465 CALIFORNIA S...|san francisco|   null|    null|   null|$115,938,711.00|   $61,325,328.00| 100.0|       International|The Asia Foundati...|104446388.0|               0.106|    0.01|               0.003|             0.889|  77.5|        David Arnold|   414366.0|0.003900000000000...|Working to build ...| The Asia Foundation|106944143.0|84.09|   CA|International Pea...| big|      92852838.932|        313339.164|      11071317.128|\n",
            "|941679756|      N/A| 999 HARRISON ST ...|     berkeley|   null|    null|   null| $21,622,457.00|   $48,127,170.00| 100.0|Arts, Culture, Hu...|Founded in 1968 a...| 20346600.0| 0.09699999999999999|    0.15|               0.064|0.8370000000000001| 92.12|         Susan Medak|   241473.0|              0.0118|The East Bay's fi...|Berkeley Repertor...| 19580585.0|94.42|   CA|     Performing Arts| big|17030104.200000003|1302182.4000000001|1973620.1999999997|\n",
            "|941156608|      N/A| 380 FULTON ST  9...|san francisco|   null|    null|   null| $16,292,559.00|  $112,218,716.00| 100.0|      Human Services|We inspire and en...| 22351367.0|               0.102|    0.09| 0.08199999999999999|0.8140000000000001| 93.97|        Rob Connolly|   249967.0|              0.0111|Great Futures Sta...|Boys & Girls Club...| 15922613.0|95.73|   CA|Youth Development...| big|      18194012.738|1832812.0939999998|       2279839.434|\n",
            "|951641426|      N/A| 741 N VERMONT AV...|  los angeles|   null|    null|   null| $35,807,995.00|  $181,909,301.00|  96.0|      Human Services|Founded in 1919, ...| 23465454.0|                 0.1|    0.16|               0.145|             0.753| 82.22|      Peter Mindnich|   311359.0|              0.0132|Empowering visual...|Braille Institute...| 34058059.0|87.11|   CA|     Social Services| big|      17669486.862|3402490.8299999996|         2346545.4|\n",
            "|941156258|      N/A| 55 MUSIC CONCOUR...|san francisco|   null|    null|   null|$930,156,457.00|  $844,166,045.00|  96.0|Arts, Culture, Hu...|As the world's gr...| 87733463.0|               0.267|    0.09|                0.04|             0.691| 75.78|      Jonathan Foley|   398674.0|0.004500000000000...|Explore, Explain ...|California Academ...| 76308977.0|82.64|   CA|             Museums| big|      60623822.933|        3509338.52|23424834.621000003|\n",
            "|510465703|      N/A| 250 E 1ST STREET...|  los angeles|   null|    null|   null| $23,061,448.00|   $27,006,941.00|  89.0|           Education|Founded in 2003, ...| 24280771.0|                0.13|    0.02|0.018000000000000002|             0.851|  87.5|         Jed Wallace|   312822.0|              0.0128|Empowering parent...|California Charte...| 23426909.0|88.22|   CA|Education Policy ...| big|      20662936.121|        437053.878|        3156500.23|\n",
            "|953510055|      N/A| 221 S FIGUEROA S...|  los angeles|   null|    null|   null|$355,006,625.00|$1,276,625,567.00|  96.0|Community Develop...|For more than 100...|189261881.0|               0.046|    0.01|0.013999999999999999|             0.938| 88.28|   Antonia Hernandez|   503645.0|              0.0026|Building Los Ange...|California Commun...|339762982.0|91.24|   CA|Community Foundat...| big|     177527644.378|       2649666.334|       8706046.526|\n",
            "|680275330|      N/A| 5800 FOODLINK ST...|   sacramento|   null|    null|   null| $41,747,586.00|   $19,831,319.00|  93.0|      Human Services|California Emerge...| 41035733.0|               0.012|    0.01|               0.001|             0.986| 95.28|         John Healey|   109000.0|              0.0026|Providing jobs, p...|California Emerge...| 41747586.0|94.03|   CA|Food Banks, Food ...| big|      40461232.738|         41035.733|492428.79600000003|\n",
            "|952210527|      N/A| 700 EXPOSITION P...|  los angeles|   null|    null|   null| $69,819,559.00|  $112,113,811.00|  89.0|Arts, Culture, Hu...|The California Sc...| 25189988.0|0.054000000000000006|    0.07|               0.049|             0.895|  80.0|  Jeffrey N. Rudolph|    44756.0|0.001700000000000...|Science learning ...|California Scienc...| 34530522.0|83.85|   CA|             Museums| big|       22545039.26|       1234309.412|1360259.3520000002|\n",
            "|942494324|      N/A| 2965 DUTTON AVE ...|   santa rosa|   null|    null|   null| $43,691,290.00|   $64,681,007.00| 100.0|             Animals|Founded in 1975 a...| 26185688.0|               0.062|     0.2|               0.222|             0.715| 83.64|   Kathryn M Marquet|    18462.0|0.000700000000000...|Exceptional dogs ...|Canine Companions...| 31135417.0|88.43|   CA|Animal Rights, We...| big|18722766.919999998|5813222.7360000005|       1623512.656|\n",
            "|951690973|      N/A| 1531 JAMES M WOO...|  los angeles|   null|    null|   null| $37,714,099.00|   $67,606,599.00|  96.0|      Human Services|Since 1919, Catho...| 38301614.0|               0.095|    0.01|               0.012|             0.892| 96.33|Rev. Monsignor Gr...|    43452.0|              0.0011|Providing service...|Catholic Charitie...| 38612096.0|96.16|   CA|     Social Services| big|      34165039.688|        459619.368|        3638653.33|\n",
            "|941498472|      N/A| 990 EDDY ST  941...|san francisco|   null|    null|   null| $41,874,562.00|   $40,235,821.00| 100.0|Community Develop...|Founded in 1907 t...| 39675865.0|               0.113|    0.03|0.027000000000000003|             0.858| 87.57|         Jeff Bialik|   250825.0|              0.0063|Serving people of...|Catholic Charitie...| 41418449.0|91.21|   CA|Housing and Neigh...| big|       34041892.17|1071248.3550000002|       4483372.745|\n",
            "+---------+---------+--------------------+-------------+-------+--------+-------+---------------+-----------------+------+--------------------+--------------------+-----------+--------------------+--------+--------------------+------------------+------+--------------------+-----------+--------------------+--------------------+--------------------+-----------+-----+-----+--------------------+----+------------------+------------------+------------------+\n",
            "only showing top 20 rows\n",
            "\n",
            "1053\n"
          ],
          "name": "stdout"
        }
      ]
    },
    {
      "cell_type": "code",
      "metadata": {
        "colab": {
          "base_uri": "https://localhost:8080/"
        },
        "id": "Oe-NAAtk7utz",
        "outputId": "4badfd4b-0b4e-42ce-a06c-19239f5e6487"
      },
      "source": [
        "result.printSchema()"
      ],
      "execution_count": null,
      "outputs": [
        {
          "output_type": "stream",
          "text": [
            "root\n",
            " |-- EIN: string (nullable = true)\n",
            " |-- Address: string (nullable = true)\n",
            " |-- City: string (nullable = true)\n",
            " |-- Website: string (nullable = true)\n",
            " |-- Facebook: string (nullable = true)\n",
            " |-- Twitter: string (nullable = true)\n",
            " |-- Income: string (nullable = true)\n",
            " |-- Assests: string (nullable = true)\n",
            " |-- ascore: string (nullable = true)\n",
            " |-- category: string (nullable = true)\n",
            " |-- description: string (nullable = true)\n",
            " |-- tot_exp: string (nullable = true)\n",
            " |-- admin_exp_p: string (nullable = true)\n",
            " |-- fund_eff: string (nullable = true)\n",
            " |-- fund_exp_p: string (nullable = true)\n",
            " |-- program_exp_p: string (nullable = true)\n",
            " |-- fscore: string (nullable = true)\n",
            " |-- leader: string (nullable = true)\n",
            " |-- leader_comp: string (nullable = true)\n",
            " |-- leader_comp_p: string (nullable = true)\n",
            " |-- motto: string (nullable = true)\n",
            " |-- name: string (nullable = true)\n",
            " |-- tot_rev: string (nullable = true)\n",
            " |-- score: string (nullable = true)\n",
            " |-- state: string (nullable = true)\n",
            " |-- subcategory: string (nullable = true)\n",
            " |-- size: string (nullable = true)\n",
            " |-- program_exp: string (nullable = true)\n",
            " |-- fund_exp: string (nullable = true)\n",
            " |-- admin_exp: string (nullable = true)\n",
            "\n"
          ],
          "name": "stdout"
        }
      ]
    }
  ]
}