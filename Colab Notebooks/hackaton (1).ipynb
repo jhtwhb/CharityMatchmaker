{
  "nbformat": 4,
  "nbformat_minor": 0,
  "metadata": {
    "colab": {
      "name": "hackaton.ipynb",
      "provenance": []
    },
    "kernelspec": {
      "name": "python3",
      "display_name": "Python 3"
    },
    "language_info": {
      "name": "python"
    }
  },
  "cells": [
    {
      "cell_type": "code",
      "metadata": {
        "id": "7SXuFV2E_8O2"
      },
      "source": [
        "import os\n",
        "os.environ[\"JAVA_HOME\"] = \"/usr/lib/jvm/java-8-openjdk-amd64\"\n",
        "os.environ[\"SPARK_HOME\"] = \"/content/spark-3.1.1-bin-hadoop2.7\"\n",
        "\n",
        "!apt-get install openjdk-8-jdk-headless -qq > /dev/null\n",
        "!wget -q http://apache.osuosl.org/spark/spark-3.1.1/spark-3.1.1-bin-hadoop2.7.tgz\n",
        "!tar xf spark-3.1.1-bin-hadoop2.7.tgz\n",
        "!pip install -q findspark"
      ],
      "execution_count": 1,
      "outputs": []
    },
    {
      "cell_type": "code",
      "metadata": {
        "id": "U5OVfcHXvt22"
      },
      "source": [
        "import pyspark.sql.functions as func\n",
        "from pyspark.sql.functions import length\n",
        "import matplotlib\n",
        "from matplotlib.pyplot import figure\n",
        "import matplotlib.pyplot as plt\n",
        "import numpy as np"
      ],
      "execution_count": 3,
      "outputs": []
    },
    {
      "cell_type": "code",
      "metadata": {
        "id": "hZOFksAbVJuY"
      },
      "source": [
        "import findspark\n",
        "import string\n",
        "findspark.init()\n",
        "from pyspark.sql import SparkSession\n",
        "from pyspark import SparkConf\n",
        "from pyspark import SparkContext\n",
        "from pyspark.sql import SQLContext\n",
        "from pyspark import sql\n",
        "from pyspark.streaming import StreamingContext\n",
        "\n",
        "spark = SparkSession.builder.appName(\"hackaton\").getOrCreate()\n",
        "\n",
        "sc = spark.sparkContext"
      ],
      "execution_count": 2,
      "outputs": []
    },
    {
      "cell_type": "code",
      "metadata": {
        "id": "TWPelLshsPuN"
      },
      "source": [
        "df = spark.read.option('header', True).csv('/content/drive/MyDrive/HackAThon2021/Data/Charity Navigator Scores Expenses Dataset/CLEAN_charity_data.csv') #reading csv into spark context "
      ],
      "execution_count": 4,
      "outputs": []
    },
    {
      "cell_type": "code",
      "metadata": {
        "colab": {
          "base_uri": "https://localhost:8080/"
        },
        "id": "NOKAjasrtK9-",
        "outputId": "734a5163-c39a-43da-92c8-95c7ff901fc4"
      },
      "source": [
        "df.show(3) #show the top 3 row of the dataframe in spark "
      ],
      "execution_count": null,
      "outputs": [
        {
          "output_type": "stream",
          "text": [
            "+------+--------------------+--------------------+----------+---------+-------------------+--------+-------------------+------------------+------+------------------+-----------+--------------------+--------------------+--------------------+---------+-----+-----+--------------------+-----+------------------+------------------+-----------+\n",
            "|ascore|            category|         description|       ein|  tot_exp|        admin_exp_p|fund_eff|         fund_exp_p|     program_exp_p|fscore|            leader|leader_comp|       leader_comp_p|               motto|                name|  tot_rev|score|state|         subcategory| size|       program_exp|          fund_exp|  admin_exp|\n",
            "+------+--------------------+--------------------+----------+---------+-------------------+--------+-------------------+------------------+------+------------------+-----------+--------------------+--------------------+--------------------+---------+-----+-----+--------------------+-----+------------------+------------------+-----------+\n",
            "| 100.0|         Environment|Working with Oreg...|93-0642086| 917313.0|0.10099999999999999|    0.18|              0.184|0.7140000000000001| 88.61|     Lynn Peterson|        0.0|                 0.0|Great communities...|1000 Friends of O...|1022513.0|91.94|   OR|Environmental Pro...|small| 654961.4820000001|        168785.592|  92648.613|\n",
            "|  89.0|Arts, Culture, Hu...|Serving the metro...|31-1770828|5053059.0|              0.231|    0.05|              0.032|             0.735| 82.85|Anthony S. Brandon|   163341.0|              0.0323|88.1 FM -. Your N...|                WYPR|5685761.0|85.59|   MD|Public Broadcasti...|  mid|3713998.3649999998|        161697.888|1167256.629|\n",
            "|  70.0|            Religion|VSS Catholic Comm...|91-1857425|1891500.0|              0.114|    0.17|0.19699999999999998|             0.687| 86.74|       Jim Carroll|   114791.0|0.060599999999999994|Spirit Catholic R...|VSS Catholic Comm...|2140836.0| 76.8|   NE|Religious Media a...|small|         1299460.5|372625.49999999994|   215631.0|\n",
            "+------+--------------------+--------------------+----------+---------+-------------------+--------+-------------------+------------------+------+------------------+-----------+--------------------+--------------------+--------------------+---------+-----+-----+--------------------+-----+------------------+------------------+-----------+\n",
            "only showing top 3 rows\n",
            "\n"
          ],
          "name": "stdout"
        }
      ]
    },
    {
      "cell_type": "code",
      "metadata": {
        "colab": {
          "base_uri": "https://localhost:8080/"
        },
        "id": "bSPWZ1vBs9Mu",
        "outputId": "23be9944-ea3e-4be7-961f-d0d892a87151"
      },
      "source": [
        "print('Num of rows in dataset: ' + str(df.count())) #output the total number of rows in the dataframe "
      ],
      "execution_count": null,
      "outputs": [
        {
          "output_type": "stream",
          "text": [
            "Num of rows in dataset: 8710\n"
          ],
          "name": "stdout"
        }
      ]
    },
    {
      "cell_type": "code",
      "metadata": {
        "colab": {
          "base_uri": "https://localhost:8080/"
        },
        "id": "e4XhkCZgtR4F",
        "outputId": "f82e6c2d-8be4-4f92-e4ac-e17d6797d3c3"
      },
      "source": [
        "state = df.filter(df.state == 'MO') #looks at charity only specific to a location \n",
        "state.show(3)\n",
        "print('Total number of charities in [given state]: ' + str(state.count())) #outputs the number of rows for a given state \n",
        "print('\\nAll categories in [given state]: ')\n",
        "state.select('category').distinct().show() #only output distinct rows "
      ],
      "execution_count": null,
      "outputs": [
        {
          "output_type": "stream",
          "text": [
            "+------+--------------+--------------------+----------+----------+-----------+--------+--------------------+------------------+------+--------------------+-----------+-------------+--------------------+--------------------+----------+-----+-----+--------------------+-----+------------------+-----------------+----------+\n",
            "|ascore|      category|         description|       ein|   tot_exp|admin_exp_p|fund_eff|          fund_exp_p|     program_exp_p|fscore|              leader|leader_comp|leader_comp_p|               motto|                name|   tot_rev|score|state|         subcategory| size|       program_exp|         fund_exp| admin_exp|\n",
            "+------+--------------+--------------------+----------+----------+-----------+--------+--------------------+------------------+------+--------------------+-----------+-------------+--------------------+--------------------+----------+-----+-----+--------------------+-----+------------------+-----------------+----------+\n",
            "| 100.0|Human Services|Ozarks Food Harve...|43-1426384|30424252.0|      0.021|    0.02|                0.02|0.9570000000000001| 96.42|          Bart Brown|   133303.0|       0.0043|Transforming Hung...| Ozarks Food Harvest|32837895.0|97.46|   MO|Food Banks, Food ...|  big|      29116009.164|        608485.04|638909.292|\n",
            "|  92.0|     Education|Founded in 1975, ...|51-0166741| 2500441.0|      0.247|    0.04|0.028999999999999998|             0.723| 91.37|James Douglas Haddix|    21448.0|       0.0085|Fostering excelle...|Investigative Rep...| 2551819.0|91.67|   MO|Adult Education P...|small|1807818.8429999999|72512.78899999999|617608.927|\n",
            "|  77.0|        Health|International Pso...|20-1566278| 1324090.0|      0.122|    0.04|               0.051|             0.825| 89.68|      Christy Langan|   159198.0|       0.1202|Advancing knowled...|International Pso...| 1409436.0|82.17|   MO|Diseases, Disorde...|small|        1092374.25|         67528.59| 161538.98|\n",
            "+------+--------------+--------------------+----------+----------+-----------+--------+--------------------+------------------+------+--------------------+-----------+-------------+--------------------+--------------------+----------+-----+-----+--------------------+-----+------------------+-----------------+----------+\n",
            "only showing top 3 rows\n",
            "\n",
            "Total number of charities in [given state]: 148\n",
            "\n",
            "All categories in [given state]: \n",
            "+--------------------+\n",
            "|            category|\n",
            "+--------------------+\n",
            "|Human and Civil R...|\n",
            "|       International|\n",
            "|           Education|\n",
            "|Research and Publ...|\n",
            "|              Health|\n",
            "|Arts, Culture, Hu...|\n",
            "|            Religion|\n",
            "|      Human Services|\n",
            "|Community Develop...|\n",
            "|             Animals|\n",
            "|         Environment|\n",
            "+--------------------+\n",
            "\n"
          ],
          "name": "stdout"
        }
      ]
    },
    {
      "cell_type": "code",
      "metadata": {
        "colab": {
          "base_uri": "https://localhost:8080/"
        },
        "id": "EcM9yq9UY20W",
        "outputId": "282245d2-c422-4bec-d9ad-317303da752c"
      },
      "source": [
        "df.groupBy('state').agg(func.count('state').alias('total')).show(20) #output the state of each charity, notice that there will be inaccurate data"
      ],
      "execution_count": 6,
      "outputs": [
        {
          "output_type": "stream",
          "text": [
            "+--------------------+-----+\n",
            "|               state|total|\n",
            "+--------------------+-----+\n",
            "|              0.0325|    1|\n",
            "|               65.32|    1|\n",
            "|  David L. Kutchback|    1|\n",
            "|           1240262.0|    1|\n",
            "| 0.06860000000000001|    1|\n",
            "|              0.0359|    1|\n",
            "|Animal Rights, We...|    1|\n",
            "|               0.147|    1|\n",
            "|                0.07|    1|\n",
            "|          31205313.0|    1|\n",
            "|               92.14|    1|\n",
            "|            237474.0|    1|\n",
            "|                86.1|    1|\n",
            "|                  AZ|  115|\n",
            "|                  SC|   74|\n",
            "|Saving the lives ...|    1|\n",
            "|Diseases, Disorde...|    1|\n",
            "|              0.0095|    1|\n",
            "|           2544826.0|    1|\n",
            "|Community Foundat...|    1|\n",
            "+--------------------+-----+\n",
            "only showing top 20 rows\n",
            "\n"
          ],
          "name": "stdout"
        }
      ]
    },
    {
      "cell_type": "code",
      "metadata": {
        "id": "IifCfPVCvC7_"
      },
      "source": [
        "result = df.groupBy('state').agg(func.count('state').alias('total')).sort(func.col('total').desc()).filter(length(df.state) == 2) #filter through the dataframe group each state and calculate the total num of rows for that state \n",
        "result.write.option(\"header\", \"true\").csv(\"/content/drive/MyDrive/HackAThon2021/Data/states_and_numbers\") #export this dataset that includes states and the total number of rows for each state"
      ],
      "execution_count": 100,
      "outputs": []
    },
    {
      "cell_type": "code",
      "metadata": {
        "colab": {
          "base_uri": "https://localhost:8080/",
          "height": 297
        },
        "id": "T2XYVwch71fI",
        "outputId": "34efa015-dda4-424e-cc63-9ceb6a0c218a"
      },
      "source": [
        "#using cleaned dataframe and the filtered dataframe that only includes the state and total rows for each state, plot a bar graph\n",
        "numCharity = result.select('total').collect() \n",
        "state = result.select('state').collect()\n",
        "\n",
        "numCharity = [int(row.total) for row in numCharity]\n",
        "state = [row.state for row in state]\n",
        "\n",
        "x = np.arange((len(state)))\n",
        "width = 0.35\n",
        "\n",
        "fig, ax = plt.subplots()\n",
        "bar1 = ax.bar(x, numCharity, width, label = 'states')\n",
        "ax.set_xticks(x)\n",
        "ax.set_xticklabels(state)\n",
        "\n",
        "plt.setp(ax.get_xticklabels(), rotation=90, horizontalalignment='right', fontsize='x-small')\n",
        "plt.tight_layout()"
      ],
      "execution_count": 96,
      "outputs": [
        {
          "output_type": "display_data",
          "data": {
            "image/png": "[encoded data removed]",
            "text/plain": [
              "<Figure size 432x288 with 1 Axes>"
            ]
          },
          "metadata": {
            "tags": [],
            "needs_background": "light"
          }
        }
      ]
    },
    {
      "cell_type": "code",
      "metadata": {
        "colab": {
          "base_uri": "https://localhost:8080/"
        },
        "id": "G4lsZoI7Llqc",
        "outputId": "2f0a02c1-0d3a-4aa7-b41a-a23d9f8949b8"
      },
      "source": [
        "df_clean = df.filter(length(df.state) == 2) #filter data to only include state characters == 2 \n",
        "#output difference between filtered dataframe and original dataframe to see whether there is a difference in sizes \n",
        "print('Dataset with inaccurate data: ' + str(df.count())) \n",
        "print('Dataset with inaccurate data removed: ' + str(df_clean.count()))\n",
        "#output the cleaned dataframe to a csv \n",
        "df_clean.write.option('header', 'true').csv('/content/drive/MyDrive/HackAThon2021/Data/CharityNav_Cleaned')"
      ],
      "execution_count": 7,
      "outputs": [
        {
          "output_type": "stream",
          "text": [
            "Dataset with inaccurate data: 8710\n",
            "Dataset with inaccurate data removed: 8033\n"
          ],
          "name": "stdout"
        }
      ]
    },
    {
      "cell_type": "code",
      "metadata": {
        "colab": {
          "base_uri": "https://localhost:8080/"
        },
        "id": "_-mSmxDhyips",
        "outputId": "efd21721-1133-45bd-f9bb-423294a4097a"
      },
      "source": [
        "df_clean.groupBy(df_clean['state']).agg(func.avg('score').alias('average score')).sort(func.col('average score').desc()).show() #outputs the average scores for each state "
      ],
      "execution_count": 19,
      "outputs": [
        {
          "output_type": "stream",
          "text": [
            "+-----+-----------------+\n",
            "|state|    average score|\n",
            "+-----+-----------------+\n",
            "|   VI|             89.5|\n",
            "|   VT|            89.33|\n",
            "|   WY|          89.1775|\n",
            "|   NM|        88.531875|\n",
            "|   OR|88.41159292035394|\n",
            "|   FL|88.07299251870324|\n",
            "|   ID|87.94999999999999|\n",
            "|   MO|87.90425675675677|\n",
            "|   NE|87.88000000000001|\n",
            "|   IA|87.84499999999998|\n",
            "|   SC|87.82324324324327|\n",
            "|   MN|87.79915422885568|\n",
            "|   WI|87.79535999999999|\n",
            "|   DE| 87.7395652173913|\n",
            "|   TX| 87.6620898876404|\n",
            "|   NC|87.53896739130428|\n",
            "|   ND|87.47571428571429|\n",
            "|   KY|87.38880597014926|\n",
            "|   PA|87.35946808510639|\n",
            "|   CO|87.31818565400846|\n",
            "+-----+-----------------+\n",
            "only showing top 20 rows\n",
            "\n"
          ],
          "name": "stdout"
        }
      ]
    },
    {
      "cell_type": "code",
      "metadata": {
        "colab": {
          "base_uri": "https://localhost:8080/"
        },
        "id": "dMW_g5fVKB84",
        "outputId": "6cce0dd2-6b28-4900-bff4-b4d491b8fc4e"
      },
      "source": [
        "df_keyword_search = df_clean.filter(df_clean['motto'].rlike('.*(save){1}.*')) #outputs the state that has a motto which includes the word 'save'\n",
        "print(df_keyword_search.count())\n",
        "df_keyword_search.show(5)"
      ],
      "execution_count": 18,
      "outputs": [
        {
          "output_type": "stream",
          "text": [
            "21\n",
            "+------+--------------------+--------------------+----------+----------+--------------------+--------+----------+------------------+------+--------------+-----------+-------------+--------------------+--------------------+-----------+-----+-----+--------------------+-----+-----------------+-----------+------------------+\n",
            "|ascore|            category|         description|       ein|   tot_exp|         admin_exp_p|fund_eff|fund_exp_p|     program_exp_p|fscore|        leader|leader_comp|leader_comp_p|               motto|                name|    tot_rev|score|state|         subcategory| size|      program_exp|   fund_exp|         admin_exp|\n",
            "+------+--------------------+--------------------+----------+----------+--------------------+--------+----------+------------------+------+--------------+-----------+-------------+--------------------+--------------------+-----------+-----+-----+--------------------+-----+-----------------+-----------+------------------+\n",
            "|  70.0|      Human Services|Lives Under Const...|46-0368556| 1358480.0|               0.065|    0.01|     0.003|0.9309999999999999| 94.86|    Ken Ortman|    62500.0|        0.046|Changing the way ...|Lives Under Const...|  1907057.0|78.47|   MO|Youth Development...|small|       1264744.88|    4075.44|           88301.2|\n",
            "|  93.0|Human and Civil R...|Legal Aid Society...|34-0866026| 7921882.0|                0.12|    0.06|     0.062|             0.816| 95.34|Colleen Cotter|   152512.0|       0.0192|Home and happines...|Legal Aid Society...|  8506953.0|94.05|   OH|Advocacy and Educ...|  mid|6464255.711999999| 491156.684|         950625.84|\n",
            "| 100.0|              Health|Our mission is to...|91-6183158| 2158358.0|               0.172|    0.21|     0.239|             0.588| 75.01| Janett Sprake|   188939.0|       0.0875|We will never sto...|Medic One Foundation|  3709625.0|82.32|   WA|    Medical Research|small|      1269114.504| 515847.562|371237.57599999994|\n",
            "| 100.0|      Human Services|Since 1959, the O...|93-6041506| 1494976.0|               0.023|    0.13|     0.075|0.9009999999999999| 94.99| Doug Thompson|   118184.0|        0.079|To screen, treat,...|Oregon Lions Sigh...|  1046915.0|96.45|   OR|     Social Services|small|      1346973.376|   112123.2|         34384.448|\n",
            "|  96.0|       International|Founded in 1958, ...|53-0242962|99239752.0|0.027000000000000003|    0.05|     0.051|              0.92|  77.5| Thomas Kenyon|   435046.0|       0.0043|Placing power in ...|        Project HOPE|100904584.0|83.84|   VA|Development and R...|  big|      91300571.84|5061227.352|2679473.3040000005|\n",
            "+------+--------------------+--------------------+----------+----------+--------------------+--------+----------+------------------+------+--------------+-----------+-------------+--------------------+--------------------+-----------+-----+-----+--------------------+-----+-----------------+-----------+------------------+\n",
            "only showing top 5 rows\n",
            "\n"
          ],
          "name": "stdout"
        }
      ]
    }
  ]
}